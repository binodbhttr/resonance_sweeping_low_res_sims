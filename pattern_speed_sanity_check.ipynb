{
 "cells": [
  {
   "cell_type": "code",
   "execution_count": null,
   "id": "d313ceef-ee3b-4661-96d6-acd7db558fb8",
   "metadata": {},
   "outputs": [],
   "source": [
    "import numpy as np \n",
    "import pickle\n",
    "from matplotlib import pyplot as plt\n",
    "import os\n",
    "!hostname"
   ]
  },
  {
   "cell_type": "markdown",
   "id": "b629c160-1fd6-4e1b-8fd9-7bea314f9d6c",
   "metadata": {},
   "source": [
    "# angle sample 1"
   ]
  },
  {
   "cell_type": "code",
   "execution_count": null,
   "id": "cae8f79e-f51e-4ee3-bcf2-75ffe3b92e73",
   "metadata": {},
   "outputs": [],
   "source": [
    "start=0\n",
    "end=510\n",
    "\n",
    "datapath=\"/work2/07428/binod/stampede2/LRBB-IoMW/\"\n",
    "plotpath=\"/home1/07428/binod/work2/resonance_sweeping_low_res_sims/\"\n",
    "angle_datapath=\"/home1/07428/binod/work2/resonance_sweeping_low_res_sims/\"\n",
    "datafilename=str(start)+\"_to_\"+str(end)+\"_fft_barangles_sim_low_res.ang\"\n",
    "ang_stored = open(angle_datapath+datafilename,'rb')\n",
    "all_bangles=pickle.load(ang_stored)\n",
    "print(len(all_bangles))"
   ]
  },
  {
   "cell_type": "markdown",
   "id": "a6076718-278a-4527-92a6-460ef1835528",
   "metadata": {},
   "source": [
    "# angle sample 2"
   ]
  },
  {
   "cell_type": "code",
   "execution_count": null,
   "id": "90ba6ef8-62e7-4624-a18c-a0830da82dd0",
   "metadata": {},
   "outputs": [],
   "source": [
    "start=0\n",
    "end=510\n",
    "\n",
    "datafilename2=str(start)+\"_to_\"+str(end)+\"_fft_barangles_sim_low_res_r1_to_4.ang\"\n",
    "ang_stored2 = open(angle_datapath+datafilename2,'rb')\n",
    "all_bangles2=pickle.load(ang_stored2)\n",
    "print(len(all_bangles2))"
   ]
  },
  {
   "cell_type": "markdown",
   "id": "7b5e1c9f-44c5-4f00-be76-c21411a1b5b6",
   "metadata": {},
   "source": [
    "# Code used to calculate bar angles for this low res simulation"
   ]
  },
  {
   "cell_type": "code",
   "execution_count": null,
   "id": "c062307d-4f7b-4d85-8ee1-159f15fe706d",
   "metadata": {},
   "outputs": [],
   "source": [
    "import numpy as np \n",
    "import pickle\n",
    "from matplotlib import pyplot as plt\n",
    "from galpy.util import coords as coords\n",
    "import os\n",
    "import sys\n",
    "from procedure import *\n",
    "\n",
    "save_datapath=\"./\"\n",
    "\n",
    "start=0\n",
    "finish=510\n",
    "\n",
    "orbit=open('bar_angles_new.txt','w')\n",
    "barangle=0.\n",
    "oldbarangle=0.\n",
    "#a=list()\n",
    "for i in range(start,finish):\n",
    "    snapshot=i\n",
    "    snaparr = loadwholesnap(path,snapshot)\n",
    "    mass=snaparr['mass']  #note mass here is in solar mass (use the factor 2.324876e9)\n",
    "    r=snaparr['r']\n",
    "    phi=snaparr['phi']\n",
    "        \n",
    "    #calculating bar_angle\n",
    "    discindx=(mass<5000)\n",
    "    #barsample=(r>1)*(r<4)*discindx\n",
    "    barsample=(r<5)*(r>1)\n",
    "    #counts, bins, patches=plt.hist(phi[barsample],bins=360,range=[-np.pi,np.pi])\n",
    "    counts, _ = np.histogram(phi[barsample], bins = np.linspace(-np.pi, np.pi, 360))\n",
    "    ff=np.fft.fft(counts-np.mean(counts))\n",
    "    barangle=-np.angle(ff[2])/2.\n",
    "    \n",
    "    TU=9.778145/1000.\n",
    "    \n",
    "    if barangle>oldbarangle+np.pi:\n",
    "        barangle=barangle-np.pi\n",
    "    if barangle<oldbarangle:\n",
    "        if (barangle+2*np.pi)>oldbarangle+np.pi:\n",
    "            barangle=barangle-np.pi\n",
    "    print(\"Calculated barangle at snapshot:\",i,\" bar_angle is\",np.rad2deg(barangle))\n",
    "    print(\"%E %E\" %(i,barangle), file=orbit, flush=True)\n",
    "    oldbarangle=barangle"
   ]
  },
  {
   "cell_type": "code",
   "execution_count": null,
   "id": "d24b1922-ea87-41df-8705-a8ae5e594f09",
   "metadata": {},
   "outputs": [],
   "source": []
  },
  {
   "cell_type": "code",
   "execution_count": null,
   "id": "a3b6aca7-229e-4e93-a41c-25a0f97fa0f8",
   "metadata": {},
   "outputs": [],
   "source": [
    "barstuff=np.genfromtxt('bar.txt') #change the name of file based on where you saved \n",
    "time=barstuff[:,0]\n",
    "angle=barstuff[:,1]\n",
    "for i in range(len(angle)):\n",
    "    if angle[i]<0:\n",
    "        angle[i]=2*np.pi+angle[i]\n",
    "\n",
    "print(angle)        \n",
    "\n",
    "TU=0.00977\n",
    "PS=np.empty(len(angle-1))\n",
    "for i in range(1,len(angle)-1):\n",
    "    PS[i-1]=(angle[i]-angle[i-1])/TU\n",
    "    if angle[i]<angle[i-1]:\n",
    "        diff=angle[i]-angle[i-1]\n",
    "        ang_diff=angle[i]+np.pi-angle[i-1]\n",
    "        #print(\"angle[i]<angle[i-1]\",diff,ang_diff)\n",
    "        PS[i-1]=ang_diff/TU\n",
    "          \n",
    "    if PS[i-1]<0.:\n",
    "        ang_diff=angle[i]+2*np.pi-angle[i-1]\n",
    "        #print(ang_diff)\n",
    "        PS[i-1]=ang_diff/TU\n",
    "        print(PS[i-1])\n",
    "PS=PS*3.08567758/3.15576\n",
    "plt.plot(time,PS)\n",
    "plt.plot([0,5],[26,26])\n",
    "#plt.ylim(25,30)\n",
    "plt.ylabel(r'$\\Omega_b$ (km/s /kpc)')\n",
    "plt.xlabel('Time (Gyr)')\n",
    "plt.show()"
   ]
  },
  {
   "cell_type": "code",
   "execution_count": null,
   "id": "b9272621-b798-4cf3-9aee-4780f6913a7c",
   "metadata": {},
   "outputs": [],
   "source": [
    "times=np.genfromtxt(datapath+'times.txt',dtype='str')\n",
    "time=list()\n",
    "for i in range(end): #goto len(times) if you want to seek for all times that are calculated so far\n",
    "    t=float(times[i][11:-2])/1000 # in Gyr\n",
    "    time.append(t)\n",
    "\n",
    "time=np.array(time)\n",
    "time=time*9.778145\n",
    "print(len(time))"
   ]
  },
  {
   "cell_type": "code",
   "execution_count": null,
   "id": "8c5b0dae-2856-4d9d-877c-bf35b4ed4ff0",
   "metadata": {},
   "outputs": [],
   "source": [
    "patspeed_stored = open(\"0_to_510_fft_pattern_speed_sim_low_res_r1_to_4.ang\",'rb')\n",
    "PS=pickle.load(patspeed_stored)"
   ]
  },
  {
   "cell_type": "code",
   "execution_count": null,
   "id": "f9d2cff5-1d8c-40a8-8487-a61222dec48e",
   "metadata": {},
   "outputs": [],
   "source": []
  },
  {
   "cell_type": "code",
   "execution_count": null,
   "id": "b0419c3a-97d0-4f74-9942-c0dcaf1fe1a4",
   "metadata": {},
   "outputs": [],
   "source": [
    "patstuff=np.genfromtxt('pattern_speed.txt')\n",
    "tyme=patstuff[:,0]\n",
    "pat_spd=patstuff[:,1]"
   ]
  },
  {
   "cell_type": "code",
   "execution_count": null,
   "id": "b6743899-a68b-489d-8dc0-309be86ece96",
   "metadata": {},
   "outputs": [],
   "source": [
    "plt.plot(tyme,pat_spd)"
   ]
  },
  {
   "cell_type": "code",
   "execution_count": null,
   "id": "d8e1804d-f002-4dbd-b3e0-8ba018454242",
   "metadata": {},
   "outputs": [],
   "source": [
    "patstuff=np.genfromtxt('pattern_speed.txt')\n",
    "time=patstuff[:,0]\n",
    "dadtz=patstuff[:,1]\n",
    "\n",
    "fig5=plt.figure(figsize=(10,3))\n",
    "ax=fig5.add_subplot(111)\n",
    "ax.set_xlabel(\"t (Gyr)\")\n",
    "ax.set_ylabel(\"$\\Omega$$_{bar}$ $kms^{-1}kpc^{-1}$\")\n",
    "\n",
    "ax.plot(time,dadtz)\n",
    "ax.set_ylim(0,130)\n",
    "ax.set_xlim(1.5,5.0)\n",
    "\n",
    "time_A=205\n",
    "time_B=307\n",
    "time_C=505\n",
    "ax.axvline(x=time[time_A],c='blue',linestyle='--',lw=0.8)\n",
    "ax.axvline(x=time[time_B],c='blue',linestyle='--',lw=0.8)\n",
    "ax.axvline(x=time[time_C],c='red',linestyle='--',lw=0.8)\n",
    "\n",
    "#shading from A to B\n",
    "ax.axvspan(time[time_A], time[time_B], color='y', alpha=0.4, lw=0.8)\n",
    "#shading from B to C\n",
    "ax.axvspan(time[time_B], time[time_C], color='y', alpha=0.4, lw=0.7)\n",
    "\n",
    "eta1=(dadtz[time_B]-dadtz[time_A])\n",
    "eta1=abs(eta1)\n",
    "ax.text(time[210],100,r\"$\\Delta$$\\Omega$$_{bar}$=\"+str(round(eta1,2)),color=\"blue\")\n",
    "ax.text(time[210],90,r\"$\\Delta$t=\"+str(round(time[time_B]-time[time_A],2))+\"Gyr\",color=\"blue\")\n",
    "ax.text(time[210],80,r\"$\\Omega$$_{bar}$=\"+str(round(dadtz[time_A],2)),color=\"blue\")\n",
    "\n",
    "ax.annotate(text='',xy=(time[time_B],110), xytext=(time[time_A],110), arrowprops=dict(edgecolor='blue',arrowstyle='<->'))\n",
    "\n",
    "#Looking over a larger range\n",
    "\n",
    "\n",
    "eta=(dadtz[time_C]-dadtz[time_A])\n",
    "eta=abs(eta)\n",
    "db_dt=eta/(time[time_C]-time[time_A])\n",
    "ax.text(time[350],60,r\"$\\Delta$$\\Omega$$_{bar}$=\"+str(round(eta,2)),color=\"red\")\n",
    "ax.text(time[350],50,r\"$\\Delta$t=\"+str(round(time[time_C]-time[time_A],2))+\"Gyr\",color=\"red\")\n",
    "\n",
    "ax.text(time[350],80,r\"$\\frac{{\\Delta}{\\Omega}_{bar}}{{\\Delta}{t}}$ =\"+str(round(db_dt,2))+\" $kms^{-1}kpc^{-1}Gyr^{-1}$\",color=\"red\")\n",
    "\n",
    "ax.annotate(text='',xy=(time[time_C],70), xytext=(time[time_A],70), arrowprops=dict(edgecolor='red',arrowstyle='<->'))\n",
    "\n",
    "ax.text(time[465],60,r\"$\\Omega$$_{bar}$=\"+str(round(dadtz[time_C],2)),color=\"red\")\n",
    "\n",
    "\n",
    "#ax.scatter(time[200],dadtz[200],c=\"red\",s=10)\n",
    "ax.minorticks_on()\n",
    "#print(last)\n",
    "plotname=\"da_dt_vs_time_low_res_sims_fft_method_kms_kpc_r_1_4.jpg\"\n",
    "print(\"Plot generated and saved to file: \",plotname)\n",
    "fig5.savefig(plotname,bbox_inches=\"tight\",dpi=200)\n",
    "#plt.tight_layout()\n",
    "plt.show()\n",
    "\n",
    "#37-40 km/s/kpc"
   ]
  },
  {
   "cell_type": "code",
   "execution_count": null,
   "id": "93fe1012-f6dc-4393-a5ca-1d55348d96e8",
   "metadata": {},
   "outputs": [],
   "source": []
  }
 ],
 "metadata": {
  "kernelspec": {
   "display_name": "Python 3",
   "language": "python",
   "name": "python3"
  },
  "language_info": {
   "codemirror_mode": {
    "name": "ipython",
    "version": 3
   },
   "file_extension": ".py",
   "mimetype": "text/x-python",
   "name": "python",
   "nbconvert_exporter": "python",
   "pygments_lexer": "ipython3",
   "version": "3.8.8"
  }
 },
 "nbformat": 4,
 "nbformat_minor": 5
}
