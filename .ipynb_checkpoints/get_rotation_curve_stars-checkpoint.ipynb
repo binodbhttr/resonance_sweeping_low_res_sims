{
 "cells": [
  {
   "cell_type": "code",
   "execution_count": 5,
   "id": "c6bdec9d-8fac-4c39-b1dc-37cc6edd607d",
   "metadata": {},
   "outputs": [],
   "source": [
    "import numpy as np \n",
    "import pickle\n",
    "from matplotlib import pyplot as plt\n",
    "from galpy.util import coords as coords\n",
    "import os\n",
    "import sys\n",
    "import pandas as pd\n",
    "from procedure import *\n",
    "\n",
    "savepath=\"/home1/07428/binod/work2/resonance_sweeping_low_res_sims/v_circs/\"\n",
    "#plotpath=\"/mnt/home/bbhattarai/resonance_sweeping/New_Sims_Analysis/plots/\"\n",
    "#local_datapath=\"./resonance_sweeping/localdata/\"\n",
    "\n",
    "#data={}\n",
    "######\n",
    "######\n",
    "#This part of the code captures number from the sbatch script to run things parallel\n",
    "\n",
    "#argdex = int(sys.argv[1])\n",
    "#start  = int(argdex*131)-131\n",
    "#finish = int(argdex*131)\n",
    "\n",
    "\n"
   ]
  },
  {
   "cell_type": "code",
   "execution_count": 6,
   "id": "0676dc0a-e4a3-4373-8c24-385de2641ce7",
   "metadata": {},
   "outputs": [
    {
     "name": "stdout",
     "output_type": "stream",
     "text": [
      "Saved to File: ./velocity_curve_stars_timestep500.csv\n",
      "Saved to File: ./velocity_curve_stars_timestep501.csv\n",
      "Saved to File: ./velocity_curve_stars_timestep502.csv\n",
      "Saved to File: ./velocity_curve_stars_timestep503.csv\n",
      "Saved to File: ./velocity_curve_stars_timestep504.csv\n",
      "Saved to File: ./velocity_curve_stars_timestep505.csv\n",
      "Saved to File: ./velocity_curve_stars_timestep506.csv\n",
      "Saved to File: ./velocity_curve_stars_timestep507.csv\n",
      "Saved to File: ./velocity_curve_stars_timestep508.csv\n",
      "Saved to File: ./velocity_curve_stars_timestep509.csv\n"
     ]
    }
   ],
   "source": [
    "start=500\n",
    "finish=510\n",
    "\n",
    "for i in range(start,finish):\n",
    "    snapshot=i\n",
    "    snaparr = loadwholesnap(path,snapshot)\n",
    "    x=snaparr['x']\n",
    "    y=snaparr['y']\n",
    "    z=snaparr['z'] \n",
    "    mass=snaparr['mass']  #note mass here is in solar mass (use the factor 2.324876e9)\n",
    "\n",
    "    r_sph_stars=np.sqrt(x**2+y**2+z**2)\n",
    "    #r_sph_dark=np.sqrt(xd**2+yd**2+zd**2)\n",
    "\n",
    "    rmin=0.01\n",
    "    rmax=30\n",
    "    step_count=250\n",
    "\n",
    "    radii = np.empty(step_count)\n",
    "    star_enc = np.empty(step_count)\n",
    "    #total_enc = np.empty(step_count)\n",
    "    #dark_enc = np.empty(step_count)\n",
    "\n",
    "\n",
    "    for ii,radius in enumerate(np.linspace(rmin, rmax, step_count)):\n",
    "        #disk_annulus = (snaparr['r'] < radius) & (snaparr['mass']<massflaglo)\n",
    "        #bulge_annulus = (snaparr['r'] < radius) & (snaparr['mass']>massflaglo) & (snaparr['mass']<massflaghi)\n",
    "        #dark_annulus = (snaparr_dark['r'] < radius) & (snaparr_dark['mass']<massflaghi)\n",
    "\n",
    "        star_annulus = np.where(r_sph_stars <= radius)\n",
    "        #dark_annulus = np.where(r_sph_dark <= radius)\n",
    "\n",
    "        #mass enclosed\n",
    "\n",
    "        star_enc[ii] = np.sum(mass[star_annulus])\n",
    "        #dark_enc[ii] = np.sum(massd[dark_annulus])\n",
    "        #total_enc[ii] = star_enc[ii]+dark_enc[ii]\n",
    "\n",
    "        #radius\n",
    "        radii[ii] = radius\n",
    "\n",
    "    G = 4.3 * 10**(-6) #kpc m_odot (km/s)^2\n",
    "\n",
    "    star_vc = np.sqrt((G * star_enc)/radii)\n",
    "    #dark_vc = np.sqrt((G * dark_enc)/radii)\n",
    "    #total_vc = np.sqrt((G * total_enc)/radii)\n",
    "\n",
    "    #v_circ_df = pd.DataFrame(np.array([radii, star_vc, dark_vc, total_vc]).T, \n",
    "    #                    columns=['radius', 'star_vc', 'dark_vc', 'total_vc'])\n",
    "    v_circ_df = pd.DataFrame(np.array([radii, star_vc]).T, \n",
    "                        columns=['radius', 'star_vc'])\n",
    "    v_circ_df.to_csv(savepath+'velocity_curve_stars_timestep'+str(snapshot)+'.csv')\n",
    "    print(\"Saved to File:\",savepath+'velocity_curve_stars_timestep'+str(snapshot)+'.csv')\n",
    "      "
   ]
  },
  {
   "cell_type": "code",
   "execution_count": null,
   "id": "007ef931-32ca-4f69-b36a-0d54b67b575f",
   "metadata": {},
   "outputs": [],
   "source": []
  }
 ],
 "metadata": {
  "kernelspec": {
   "display_name": "Python 3",
   "language": "python",
   "name": "python3"
  },
  "language_info": {
   "codemirror_mode": {
    "name": "ipython",
    "version": 3
   },
   "file_extension": ".py",
   "mimetype": "text/x-python",
   "name": "python",
   "nbconvert_exporter": "python",
   "pygments_lexer": "ipython3",
   "version": "3.8.8"
  }
 },
 "nbformat": 4,
 "nbformat_minor": 5
}
