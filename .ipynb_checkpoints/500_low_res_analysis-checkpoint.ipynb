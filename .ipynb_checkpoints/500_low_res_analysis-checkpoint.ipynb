{
 "cells": [
  {
   "cell_type": "code",
   "execution_count": 2,
   "metadata": {},
   "outputs": [],
   "source": [
    "import numpy as np \n",
    "import pickle\n",
    "from matplotlib import pyplot as plt\n",
    "import galpy.util.coords as coords\n",
    "import os\n",
    "import sys\n",
    "import pandas as pd\n",
    "from procedure import *\n",
    "from scipy import stats"
   ]
  },
  {
   "cell_type": "code",
   "execution_count": 3,
   "metadata": {},
   "outputs": [
    {
     "name": "stdout",
     "output_type": "stream",
     "text": [
      "/home1/07428/binod\n"
     ]
    }
   ],
   "source": [
    "!pwd"
   ]
  },
  {
   "cell_type": "code",
   "execution_count": 4,
   "metadata": {},
   "outputs": [
    {
     "name": "stdout",
     "output_type": "stream",
     "text": [
      "c455-002.stampede2.tacc.utexas.edu\n",
      "/home1/07428/binod\n"
     ]
    }
   ],
   "source": [
    "!hostname\n",
    "!pwd"
   ]
  },
  {
   "cell_type": "code",
   "execution_count": 5,
   "metadata": {},
   "outputs": [],
   "source": [
    "datapath=\"/work2/07428/binod/stampede2/LRBB-IoMW/\"\n",
    "#freq_datapath=\"/mnt/home/bbhattarai/ceph/freq_data/\"\n",
    "plotpath=\"/home1/07428/binod/work2/resonance_sweeping_low_res_sims/\""
   ]
  },
  {
   "cell_type": "code",
   "execution_count": 6,
   "metadata": {},
   "outputs": [],
   "source": [
    "snapshot=300"
   ]
  },
  {
   "cell_type": "code",
   "execution_count": 19,
   "metadata": {},
   "outputs": [],
   "source": [
    "freq_datafile=\"DiskActions\"+str(snapshot)+\"_B3N.npy\""
   ]
  },
  {
   "cell_type": "code",
   "execution_count": 16,
   "metadata": {},
   "outputs": [],
   "source": [
    "freqs= np.load(freq_datapath+freq_datafile)"
   ]
  },
  {
   "cell_type": "markdown",
   "metadata": {},
   "source": [
    "# Reading the values from the frequency data"
   ]
  },
  {
   "cell_type": "code",
   "execution_count": 17,
   "metadata": {},
   "outputs": [],
   "source": [
    "#Jrdisk=freqs[0]\n",
    "#Jphidisk=freqs[1]\n",
    "#Jzdisk=freqs[2]\n",
    "#Trdisk=freqs[3]\n",
    "#Tphidisk=freqs[4]\n",
    "#Tzdisk=freqs[5]\n",
    "Ordisk=freqs[6]\n",
    "Ophidisk=freqs[7]\n",
    "#Ozdisk=freqs[8]\n",
    "idd_from_freqs=freqs[9]\n",
    "del freqs"
   ]
  },
  {
   "cell_type": "code",
   "execution_count": 18,
   "metadata": {},
   "outputs": [
    {
     "name": "stdout",
     "output_type": "stream",
     "text": [
      "nan\n",
      "[  6.19613148  -8.89675386   7.36797544 ...   8.12830159 -13.50986695\n",
      "  12.35180933]\n"
     ]
    }
   ],
   "source": [
    "np.max(Ophidisk)\n",
    "print(np.min(Ophidisk))\n",
    "print(Ophidisk)\n",
    "keep_ophi=(np.where((Ophidisk<700) & (Ophidisk>-700)))\n",
    "ophis=Ophidisk[keep_ophi]"
   ]
  },
  {
   "cell_type": "code",
   "execution_count": 19,
   "metadata": {},
   "outputs": [
    {
     "name": "stdout",
     "output_type": "stream",
     "text": [
      "[  6.19613148  -8.89675386   7.36797544 ...   8.12830159 -13.50986695\n",
      "  12.35180933]\n"
     ]
    }
   ],
   "source": [
    "print(ophis)"
   ]
  },
  {
   "cell_type": "code",
   "execution_count": 20,
   "metadata": {},
   "outputs": [
    {
     "data": {
      "text/plain": [
       "'\\n#maxn=(np.max(n))\\nprint(len(n))\\nprint(len(bins))\\nn_max_location=np.where(n==np.max(n))\\nbin_location=bins[n_max_location]\\n\\nprint(bin_location)\\nprint(maxn)\\n'"
      ]
     },
     "execution_count": 20,
     "metadata": {},
     "output_type": "execute_result"
    }
   ],
   "source": [
    "'''\n",
    "#maxn=(np.max(n))\n",
    "print(len(n))\n",
    "print(len(bins))\n",
    "n_max_location=np.where(n==np.max(n))\n",
    "bin_location=bins[n_max_location]\n",
    "\n",
    "print(bin_location)\n",
    "print(maxn)\n",
    "'''"
   ]
  },
  {
   "cell_type": "markdown",
   "metadata": {},
   "source": [
    "# Reading the snapshot data"
   ]
  },
  {
   "cell_type": "code",
   "execution_count": 7,
   "metadata": {},
   "outputs": [
    {
     "ename": "FileNotFoundError",
     "evalue": "[Errno 2] No such file or directory: '/work2/07428/binod/stampede2/LRBB-IoMW/snapshot__00301.0005-8'",
     "output_type": "error",
     "traceback": [
      "\u001b[0;31m---------------------------------------------------------------------------\u001b[0m",
      "\u001b[0;31mFileNotFoundError\u001b[0m                         Traceback (most recent call last)",
      "\u001b[0;32m<ipython-input-7-dbcc59eba0e2>\u001b[0m in \u001b[0;36m<module>\u001b[0;34m\u001b[0m\n\u001b[0;32m----> 1\u001b[0;31m \u001b[0msnaparr\u001b[0m \u001b[0;34m=\u001b[0m \u001b[0mloadwholesnap\u001b[0m\u001b[0;34m(\u001b[0m\u001b[0mpath\u001b[0m\u001b[0;34m,\u001b[0m\u001b[0msnapshot\u001b[0m\u001b[0;34m)\u001b[0m\u001b[0;34m\u001b[0m\u001b[0;34m\u001b[0m\u001b[0m\n\u001b[0m\u001b[1;32m      2\u001b[0m \u001b[0mprint\u001b[0m\u001b[0;34m(\u001b[0m\u001b[0;34m\"These are the data we have\"\u001b[0m\u001b[0;34m,\u001b[0m\u001b[0msnaparr\u001b[0m\u001b[0;34m[\u001b[0m\u001b[0;36m0\u001b[0m\u001b[0;34m]\u001b[0m\u001b[0;34m.\u001b[0m\u001b[0mdtype\u001b[0m\u001b[0;34m)\u001b[0m\u001b[0;34m\u001b[0m\u001b[0;34m\u001b[0m\u001b[0m\n\u001b[1;32m      3\u001b[0m \u001b[0midd\u001b[0m\u001b[0;34m=\u001b[0m\u001b[0msnaparr\u001b[0m\u001b[0;34m[\u001b[0m\u001b[0;34m'idd'\u001b[0m\u001b[0;34m]\u001b[0m\u001b[0;34m\u001b[0m\u001b[0;34m\u001b[0m\u001b[0m\n\u001b[1;32m      4\u001b[0m \u001b[0mx\u001b[0m\u001b[0;34m=\u001b[0m\u001b[0msnaparr\u001b[0m\u001b[0;34m[\u001b[0m\u001b[0;34m'x'\u001b[0m\u001b[0;34m]\u001b[0m\u001b[0;34m\u001b[0m\u001b[0;34m\u001b[0m\u001b[0m\n\u001b[1;32m      5\u001b[0m \u001b[0my\u001b[0m\u001b[0;34m=\u001b[0m\u001b[0msnaparr\u001b[0m\u001b[0;34m[\u001b[0m\u001b[0;34m'y'\u001b[0m\u001b[0;34m]\u001b[0m\u001b[0;34m\u001b[0m\u001b[0;34m\u001b[0m\u001b[0m\n",
      "\u001b[0;32m~/procedure.py\u001b[0m in \u001b[0;36mloadwholesnap\u001b[0;34m(path, timestepid, ncores, ntot, ndark, nstar, wdmBool, verbose, barframe, kmpers)\u001b[0m\n\u001b[1;32m    222\u001b[0m             \u001b[0m_\u001b[0m\u001b[0;34m,\u001b[0m\u001b[0mcats\u001b[0m\u001b[0;34m,\u001b[0m\u001b[0minfo\u001b[0m\u001b[0;34m=\u001b[0m\u001b[0mloader\u001b[0m\u001b[0;34m(\u001b[0m\u001b[0mpath\u001b[0m\u001b[0;34m+\u001b[0m\u001b[0mtimes\u001b[0m\u001b[0;34m[\u001b[0m\u001b[0mtimestepid\u001b[0m\u001b[0;34m]\u001b[0m\u001b[0;34m[\u001b[0m\u001b[0;34m:\u001b[0m\u001b[0;34m-\u001b[0m\u001b[0;36m1\u001b[0m\u001b[0;34m]\u001b[0m\u001b[0;34m+\u001b[0m\u001b[0mstr\u001b[0m\u001b[0;34m(\u001b[0m\u001b[0mj\u001b[0m\u001b[0;34m)\u001b[0m\u001b[0;34m,\u001b[0m\u001b[0mwdm\u001b[0m\u001b[0;34m=\u001b[0m\u001b[0mwdmBool\u001b[0m\u001b[0;34m,\u001b[0m\u001b[0mverbose\u001b[0m\u001b[0;34m=\u001b[0m\u001b[0mverbose\u001b[0m\u001b[0;34m,\u001b[0m\u001b[0mkmpers\u001b[0m\u001b[0;34m=\u001b[0m\u001b[0mkmpers\u001b[0m\u001b[0;34m)\u001b[0m\u001b[0;34m\u001b[0m\u001b[0;34m\u001b[0m\u001b[0m\n\u001b[1;32m    223\u001b[0m         \u001b[0;32melse\u001b[0m\u001b[0;34m:\u001b[0m\u001b[0;34m\u001b[0m\u001b[0;34m\u001b[0m\u001b[0m\n\u001b[0;32m--> 224\u001b[0;31m             \u001b[0mcats\u001b[0m\u001b[0;34m,\u001b[0m\u001b[0minfo\u001b[0m\u001b[0;34m=\u001b[0m\u001b[0mloader\u001b[0m\u001b[0;34m(\u001b[0m\u001b[0mpath\u001b[0m\u001b[0;34m+\u001b[0m\u001b[0mtimes\u001b[0m\u001b[0;34m[\u001b[0m\u001b[0mtimestepid\u001b[0m\u001b[0;34m]\u001b[0m\u001b[0;34m[\u001b[0m\u001b[0;34m:\u001b[0m\u001b[0;34m-\u001b[0m\u001b[0;36m1\u001b[0m\u001b[0;34m]\u001b[0m\u001b[0;34m+\u001b[0m\u001b[0mstr\u001b[0m\u001b[0;34m(\u001b[0m\u001b[0mj\u001b[0m\u001b[0;34m)\u001b[0m\u001b[0;34m,\u001b[0m\u001b[0mwdm\u001b[0m\u001b[0;34m=\u001b[0m\u001b[0mwdmBool\u001b[0m\u001b[0;34m,\u001b[0m\u001b[0mverbose\u001b[0m\u001b[0;34m=\u001b[0m\u001b[0mverbose\u001b[0m\u001b[0;34m,\u001b[0m\u001b[0mkmpers\u001b[0m\u001b[0;34m=\u001b[0m\u001b[0mkmpers\u001b[0m\u001b[0;34m)\u001b[0m\u001b[0;34m\u001b[0m\u001b[0;34m\u001b[0m\u001b[0m\n\u001b[0m\u001b[1;32m    225\u001b[0m         \u001b[0mtnstar\u001b[0m\u001b[0;34m=\u001b[0m\u001b[0mint\u001b[0m\u001b[0;34m(\u001b[0m\u001b[0minfo\u001b[0m\u001b[0;34m[\u001b[0m\u001b[0;34m'ns'\u001b[0m\u001b[0;34m]\u001b[0m\u001b[0;34m)\u001b[0m\u001b[0;34m\u001b[0m\u001b[0;34m\u001b[0m\u001b[0m\n\u001b[1;32m    226\u001b[0m         \u001b[0;32mif\u001b[0m \u001b[0mverbose\u001b[0m \u001b[0;34m>\u001b[0m \u001b[0;36m2\u001b[0m\u001b[0;34m:\u001b[0m\u001b[0;34m\u001b[0m\u001b[0;34m\u001b[0m\u001b[0m\n",
      "\u001b[0;32m~/procedure.py\u001b[0m in \u001b[0;36mloader\u001b[0;34m(filename, wdm, verbose, kmpers)\u001b[0m\n\u001b[1;32m     85\u001b[0m         \u001b[0mreturns\u001b[0m \u001b[0mtuple\u001b[0m \u001b[0;32mwith\u001b[0m \u001b[0;34m(\u001b[0m\u001b[0mcatd\u001b[0m\u001b[0;34m,\u001b[0m\u001b[0mcats\u001b[0m\u001b[0;34m,\u001b[0m\u001b[0minfo\u001b[0m\u001b[0;34m)\u001b[0m \u001b[0mwhere\u001b[0m \u001b[0mcatd\u001b[0m \u001b[0;34m(\u001b[0m\u001b[0mnp\u001b[0m\u001b[0;34m.\u001b[0m\u001b[0mndarray\u001b[0m\u001b[0;34m)\u001b[0m\u001b[0;34m:\u001b[0m \u001b[0mdark\u001b[0m \u001b[0mmatter\u001b[0m \u001b[0mparticles\u001b[0m \u001b[0;34m[\u001b[0m\u001b[0msame\u001b[0m \u001b[0;32mas\u001b[0m \u001b[0mabove\u001b[0m\u001b[0;34m]\u001b[0m\u001b[0;34m\u001b[0m\u001b[0;34m\u001b[0m\u001b[0m\n\u001b[1;32m     86\u001b[0m     \"\"\"\n\u001b[0;32m---> 87\u001b[0;31m     \u001b[0;32mwith\u001b[0m \u001b[0mopen\u001b[0m\u001b[0;34m(\u001b[0m\u001b[0mfilename\u001b[0m\u001b[0;34m,\u001b[0m \u001b[0;34m'rb'\u001b[0m\u001b[0;34m)\u001b[0m \u001b[0;32mas\u001b[0m \u001b[0mf\u001b[0m\u001b[0;34m:\u001b[0m\u001b[0;34m\u001b[0m\u001b[0;34m\u001b[0m\u001b[0m\n\u001b[0m\u001b[1;32m     88\u001b[0m         \u001b[0;32mif\u001b[0m \u001b[0mwdm\u001b[0m \u001b[0;34m==\u001b[0m \u001b[0;32mFalse\u001b[0m\u001b[0;34m:\u001b[0m\u001b[0;34m\u001b[0m\u001b[0;34m\u001b[0m\u001b[0m\n\u001b[1;32m     89\u001b[0m             \u001b[0;32mif\u001b[0m \u001b[0mverbose\u001b[0m\u001b[0;34m>\u001b[0m\u001b[0;36m1\u001b[0m\u001b[0;34m:\u001b[0m\u001b[0;34m\u001b[0m\u001b[0;34m\u001b[0m\u001b[0m\n",
      "\u001b[0;31mFileNotFoundError\u001b[0m: [Errno 2] No such file or directory: '/work2/07428/binod/stampede2/LRBB-IoMW/snapshot__00301.0005-8'"
     ]
    }
   ],
   "source": [
    "snaparr = loadwholesnap(path,snapshot)\n",
    "print(\"These are the data we have\",snaparr[0].dtype)\n",
    "idd=snaparr['idd']\n",
    "x=snaparr['x']\n",
    "y=snaparr['y']\n",
    "z=snaparr['z']\n",
    "vx=snaparr['vx']\n",
    "vy=snaparr['vy']\n",
    "vz=snaparr['vz']  \n",
    "mass=snaparr['mass']  #mass is in solar mass (change old mass calculations to take account of the factor 2.324876e9)\n",
    "\n",
    "vr=snaparr['vr']\n",
    "vphi=snaparr['vphi']\n",
    "vzz=snaparr['vzz']\n",
    "r=snaparr['r']\n",
    "phi=snaparr['phi'] #phi is in radians\n",
    "zz=snaparr['zz']\n",
    "\n",
    "#converting phi to degrees\n",
    "phi_degrees=np.rad2deg(phi)\n",
    "del snaparr"
   ]
  },
  {
   "cell_type": "markdown",
   "metadata": {},
   "source": [
    "# frequency over R"
   ]
  },
  {
   "cell_type": "code",
   "execution_count": 22,
   "metadata": {},
   "outputs": [
    {
     "name": "stdout",
     "output_type": "stream",
     "text": [
      "630\n"
     ]
    }
   ],
   "source": [
    "\n",
    "fig0=plt.figure()\n",
    "ax=fig0.add_subplot(111)\n",
    "nbins=int(len(ophis)**(1/3))\n",
    "print(nbins)\n",
    "n, bins, patches = ax.hist(x=ophis, bins=nbins, color='#0504aa', alpha=0.7,log=\"True\")\n",
    "ax.set_xlabel(r\"$\\Omega$ $_{phi}$\")\n",
    "ax.set_ylabel(\"log(N)\")\n",
    "plotname=\"omega_phi.png\"\n",
    "\n",
    "n_max_location=np.where(n==np.max(n))\n",
    "bin_location=bins[n_max_location]\n",
    "ax.axvline(bin_location,c='red',linestyle='--',lw=0.4)\n",
    "ax.text(bin_location+5,n[n_max_location],r\"$\\Omega$ $_{phi}$ Peak=\"+str(round(bin_location[0],3)),c=\"red\")\n",
    "\n",
    "#fig0.savefig(plotpath+plotname,dpi=300)\n",
    "plt.close()"
   ]
  },
  {
   "cell_type": "markdown",
   "metadata": {},
   "source": [
    "# Making the cut"
   ]
  },
  {
   "cell_type": "code",
   "execution_count": 24,
   "metadata": {},
   "outputs": [],
   "source": [
    "discindx=(mass<1e-7*2.324876e9)\n",
    "idd_snapshots=idd[discindx]\n",
    "x_select=x[discindx]\n",
    "y_select=y[discindx]\n",
    "z_select=z[discindx]\n",
    "\n",
    "vx_select=vx[discindx]\n",
    "vy_select=vy[discindx]\n",
    "vz_select=vz[discindx]\n",
    "\n",
    "\n",
    "vr_select=vr[discindx]\n",
    "vphi_select=vphi[discindx]\n",
    "vzz_select=vzz[discindx]\n",
    "\n",
    "\n",
    "r_select=r[discindx]\n",
    "phi_select=phi_degrees[discindx]"
   ]
  },
  {
   "cell_type": "code",
   "execution_count": 25,
   "metadata": {},
   "outputs": [
    {
     "name": "stdout",
     "output_type": "stream",
     "text": [
      "These are the ids obtained from the frequency data 250980160\n",
      "These are the ids obtained from the snapshot  data 250980160\n"
     ]
    }
   ],
   "source": [
    "print(\"These are the ids obtained from the frequency data\",len(idd_from_freqs))\n",
    "print(\"These are the ids obtained from the snapshot  data\",len(idd_snapshots))"
   ]
  },
  {
   "cell_type": "markdown",
   "metadata": {},
   "source": [
    "# Loading all saved barangles"
   ]
  },
  {
   "cell_type": "code",
   "execution_count": 26,
   "metadata": {},
   "outputs": [
    {
     "name": "stdout",
     "output_type": "stream",
     "text": [
      "1048\n"
     ]
    }
   ],
   "source": [
    "angle_datapath=\"/mnt/home/bbhattarai/resonance_sweeping//New_Sims_Analysis/\"\n",
    "datafilename=\"0_to_1048_B3-N_fft_barangles_combined_degrees.ang\"\n",
    "ang_stored = open(angle_datapath+datafilename,'rb')\n",
    "all_bangles=pickle.load(ang_stored)\n",
    "print(len(all_bangles))"
   ]
  },
  {
   "cell_type": "markdown",
   "metadata": {},
   "source": [
    "# Checking resonance Conditions"
   ]
  },
  {
   "cell_type": "code",
   "execution_count": 27,
   "metadata": {},
   "outputs": [
    {
     "name": "stdout",
     "output_type": "stream",
     "text": [
      "34.216967601166864\n"
     ]
    }
   ],
   "source": [
    "#datafilename=\"saved_bar_pattern_speed_km_per_s_kpc.ang\"\n",
    "datafilename=\"B3-N_saved_bar_pattern_speed_km_per_s_kpc.ang\"\n",
    "save_datapath=\"/mnt/home/bbhattarai/resonance_sweeping//New_Sims_Analysis/\"\n",
    "ps_stored = open(save_datapath+datafilename,'rb')\n",
    "ps=pickle.load(ps_stored)\n",
    "#print(ps)\n",
    "ps_700=ps[700]\n",
    "print(ps_700)"
   ]
  },
  {
   "cell_type": "markdown",
   "metadata": {},
   "source": [
    "# Adjusting pattern_speed_value"
   ]
  },
  {
   "cell_type": "code",
   "execution_count": 28,
   "metadata": {},
   "outputs": [
    {
     "name": "stdout",
     "output_type": "stream",
     "text": [
      "6\n",
      "34.205535280364714\n",
      "34.205535280364714\n"
     ]
    }
   ],
   "source": [
    "start=700-3\n",
    "end=700+3\n",
    "s=0\n",
    "c=0\n",
    "for i in range(start,end):\n",
    "    c+=1\n",
    "    s=s+ps[i]\n",
    "print(c)\n",
    "ps_adjusted=s/c\n",
    "\n",
    "print(ps_adjusted)\n",
    "\n",
    "#factor=3.08567758/3.15576\n",
    "#ps_adjusted=ps_adjusted/factor\n",
    "print(ps_adjusted)"
   ]
  },
  {
   "cell_type": "markdown",
   "metadata": {},
   "source": [
    "# Calculating the Resonance Conditions"
   ]
  },
  {
   "cell_type": "code",
   "execution_count": 29,
   "metadata": {},
   "outputs": [],
   "source": [
    "#OLR resonance\n",
    "#olr_resonance=Ophidisk-Ordisk/2 # inner Linbald resonance\n",
    "\n",
    "olr_resonance=Ophidisk+Ordisk/2 # outer Linbald resonance\n",
    "omega_diff_olr=olr_resonance-ps_adjusted\n",
    "keep_olr=(omega_diff_olr<0.1)*(omega_diff_olr>-0.1)\n",
    "\n",
    "\n",
    "#CR resonance\n",
    "omega_diff=Ophidisk-ps_adjusted\n",
    "keep_cr=(omega_diff<0.1)*(omega_diff>-0.1)"
   ]
  },
  {
   "cell_type": "markdown",
   "metadata": {},
   "source": [
    "# Entire Galactic Regions with Co-Rotating (CR) Resonance"
   ]
  },
  {
   "cell_type": "markdown",
   "metadata": {},
   "source": []
  },
  {
   "cell_type": "code",
   "execution_count": 30,
   "metadata": {},
   "outputs": [
    {
     "name": "stdout",
     "output_type": "stream",
     "text": [
      "353236\n"
     ]
    }
   ],
   "source": [
    "x_resonance_cr=(x_select[keep_cr])\n",
    "y_resonance_cr=(y_select[keep_cr])\n",
    "z_resonance_cr=(z_select[keep_cr])\n",
    "vr_resonance_cr=(vr_select[keep_cr])\n",
    "vphi_resonance_cr=(vphi_select[keep_cr])\n",
    "vzz_resonance_cr=(vzz_select[keep_cr])\n",
    "\n",
    "print(len(x_resonance_cr))\n",
    "\n",
    "r_resonance_cr=r_select[keep_cr]\n",
    "phi_resonance_cr=phi_select[keep_cr]\n",
    "\n",
    "idd_resonance_cr=idd_snapshots[keep_cr]\n",
    "\n",
    "datafilename=str(snapshot)+\"idd_resonance_cr.pkl\"\n",
    "with open(save_datapath+datafilename, 'wb') as output:\n",
    "        pickle.dump(idd_resonance_cr, output)"
   ]
  },
  {
   "cell_type": "markdown",
   "metadata": {},
   "source": [
    "# Calculating the percentage of stars that are in resonance with the bar:"
   ]
  },
  {
   "cell_type": "code",
   "execution_count": 31,
   "metadata": {},
   "outputs": [
    {
     "name": "stdout",
     "output_type": "stream",
     "text": [
      "250980160\n",
      "353236\n",
      "The percentage of stars that are in Corotation Resonance is 0.14074259893690402\n"
     ]
    }
   ],
   "source": [
    "n_star=len(x_select)\n",
    "n_star_cr=len(x_resonance_cr)\n",
    "\n",
    "print(n_star)\n",
    "print(n_star_cr)\n",
    "percentage_cr=(n_star_cr/n_star)*100\n",
    "print(\"The percentage of stars that are in Corotation Resonance is\",percentage_cr)"
   ]
  },
  {
   "cell_type": "markdown",
   "metadata": {},
   "source": [
    "# Entire Galactic Regions with OLR (Outer Linbald Resonance) Resonance"
   ]
  },
  {
   "cell_type": "markdown",
   "metadata": {},
   "source": []
  },
  {
   "cell_type": "code",
   "execution_count": 32,
   "metadata": {},
   "outputs": [
    {
     "name": "stdout",
     "output_type": "stream",
     "text": [
      "1330516\n",
      "The percentage of stars that are in OLR are:  0.5301279591183622\n"
     ]
    }
   ],
   "source": [
    "x_resonance_olr=(x_select[keep_olr])\n",
    "y_resonance_olr=(y_select[keep_olr])\n",
    "z_resonance_olr=(z_select[keep_olr])\n",
    "vr_resonance_olr=(vr_select[keep_olr])\n",
    "vphi_resonance_olr=(vphi_select[keep_olr])\n",
    "vzz_resonance_olr=(vzz_select[keep_olr])\n",
    "\n",
    "r_resonance_olr=r_select[keep_olr]\n",
    "phi_resonance_olr=phi_select[keep_olr]\n",
    "\n",
    "n_star_olr=len(x_resonance_olr)\n",
    "print(n_star_olr)\n",
    "percentage_olr=(n_star_olr/n_star)*100\n",
    "print(\"The percentage of stars that are in OLR are: \",percentage_olr)\n",
    "\n",
    "\n",
    "idd_resonance_olr=idd_snapshots[keep_olr]\n",
    "\n",
    "datafilename=str(snapshot)+\"idd_resonance_olr.pkl\"\n",
    "with open(save_datapath+datafilename, 'wb') as output:\n",
    "        pickle.dump(idd_resonance_olr, output)\n"
   ]
  },
  {
   "cell_type": "markdown",
   "metadata": {},
   "source": [
    "# Selecting the slice -5<phi<5"
   ]
  },
  {
   "cell_type": "code",
   "execution_count": 33,
   "metadata": {},
   "outputs": [
    {
     "name": "stdout",
     "output_type": "stream",
     "text": [
      "9774\n",
      "44581\n"
     ]
    }
   ],
   "source": [
    "keep_phi_slice_cr=(phi_resonance_cr<5)*(phi_resonance_cr>-5)\n",
    "keep_phi_slice_olr=(phi_resonance_olr<5)*(phi_resonance_olr>-5)\n",
    "\n",
    "phi_slice_cr=phi_resonance_cr[keep_phi_slice_cr]\n",
    "print(len(phi_slice_cr))\n",
    "\n",
    "phi_slice_olr=phi_resonance_olr[keep_phi_slice_olr]\n",
    "print(len(phi_slice_olr))"
   ]
  },
  {
   "cell_type": "markdown",
   "metadata": {},
   "source": [
    "# Keeping record of values for the slice -5<phi<5"
   ]
  },
  {
   "cell_type": "code",
   "execution_count": 34,
   "metadata": {},
   "outputs": [],
   "source": [
    "keep_phi_slice=(phi_select<5)*(phi_select>-5)\n",
    "x_select_phi_slice=x_select[keep_phi_slice]\n",
    "y_select_phi_slice=y_select[keep_phi_slice]\n",
    "z_select_phi_slice=z_select[keep_phi_slice]\n",
    "\n",
    "vr_phi_slice=vr_select[keep_phi_slice]\n",
    "vphi_phi_slice=vphi_select[keep_phi_slice]\n",
    "vzz_phi_slice=vzz_select[keep_phi_slice]\n",
    "r_phi_slice=r_select[keep_phi_slice]"
   ]
  },
  {
   "cell_type": "markdown",
   "metadata": {},
   "source": [
    "# Keeping record of values in the Solar Neighborhood"
   ]
  },
  {
   "cell_type": "code",
   "execution_count": 35,
   "metadata": {},
   "outputs": [],
   "source": [
    "keep_sn=(x_select<8.5)*(x_select>7.5)*(y_select<0.5)*(y_select>-0.5)*(z_select<0.5)*(z_select>-0.5)\n",
    "x_select_sn=x_select[keep_sn]\n",
    "y_select_sn=y_select[keep_sn]\n",
    "z_select_sn=z_select[keep_sn]\n",
    "\n",
    "vr_sn=vr_select[keep_sn]\n",
    "vphi_sn=vphi_select[keep_sn]\n",
    "vzz_sn=vzz_select[keep_sn]\n",
    "r_sn=r_select[keep_sn]"
   ]
  },
  {
   "cell_type": "markdown",
   "metadata": {},
   "source": [
    "# Corotating Resonance (CR) in the slice"
   ]
  },
  {
   "cell_type": "code",
   "execution_count": 36,
   "metadata": {},
   "outputs": [
    {
     "name": "stdout",
     "output_type": "stream",
     "text": [
      "[3.6356766  3.8527777  3.8862429  ... 0.69927984 0.5167156  0.20170446]\n"
     ]
    }
   ],
   "source": [
    "x_resonance_cr_phi_slice=x_resonance_cr[keep_phi_slice_cr]\n",
    "y_resonance_cr_phi_slice=(y_resonance_cr[keep_phi_slice_cr])\n",
    "z_resonance_cr_phi_slice=(z_resonance_cr[keep_phi_slice_cr])\n",
    "vr_resonance_cr_phi_slice=(vr_resonance_cr[keep_phi_slice_cr])\n",
    "vphi_resonance_cr_phi_slice=(vphi_resonance_cr[keep_phi_slice_cr])\n",
    "vzz_resonance_cr_phi_slice=(vzz_resonance_cr[keep_phi_slice_cr])\n",
    "\n",
    "r_resonance_cr_phi_slice=r_resonance_cr[keep_phi_slice_cr]\n",
    "\n",
    "phi_resonance_cr_phi_slice=phi_resonance_cr[keep_phi_slice_cr]\n",
    "\n",
    "\n",
    "idd_resonance_cr_phi_slice=idd_resonance_cr[keep_phi_slice_cr]\n",
    "\n",
    "datafilename=str(snapshot)+\"idd_resonance_cr_phi_slice.pkl\"\n",
    "with open(save_datapath+datafilename, 'wb') as output:\n",
    "        pickle.dump(idd_resonance_cr_phi_slice, output)\n",
    "\n",
    "\n",
    "print(x_resonance_cr_phi_slice)"
   ]
  },
  {
   "cell_type": "markdown",
   "metadata": {},
   "source": [
    "# OLR in the slice"
   ]
  },
  {
   "cell_type": "code",
   "execution_count": 37,
   "metadata": {},
   "outputs": [
    {
     "name": "stdout",
     "output_type": "stream",
     "text": [
      "[4.305081   4.2777514  6.0277095  ... 0.5387038  0.08649463 0.6548582 ]\n"
     ]
    }
   ],
   "source": [
    "x_resonance_olr_phi_slice=x_resonance_olr[keep_phi_slice_olr]\n",
    "y_resonance_olr_phi_slice=(y_resonance_olr[keep_phi_slice_olr])\n",
    "z_resonance_olr_phi_slice=(z_resonance_olr[keep_phi_slice_olr])\n",
    "vr_resonance_olr_phi_slice=(vr_resonance_olr[keep_phi_slice_olr])\n",
    "vphi_resonance_olr_phi_slice=(vphi_resonance_olr[keep_phi_slice_olr])\n",
    "vzz_resonance_olr_phi_slice=(vzz_resonance_olr[keep_phi_slice_olr])\n",
    "\n",
    "r_resonance_olr_phi_slice=r_resonance_olr[keep_phi_slice_olr]\n",
    "\n",
    "phi_resonance_olr_phi_slice=phi_resonance_olr[keep_phi_slice_olr]\n",
    "\n",
    "idd_resonance_olr_phi_slice=idd_resonance_olr[keep_phi_slice_olr]\n",
    "\n",
    "datafilename=str(snapshot)+\"idd_resonance_olr_phi_slice.pkl\"\n",
    "with open(save_datapath+datafilename, 'wb') as output:\n",
    "        pickle.dump(idd_resonance_olr_phi_slice, output)\n",
    "\n",
    "print(x_resonance_olr_phi_slice)"
   ]
  },
  {
   "cell_type": "markdown",
   "metadata": {},
   "source": [
    "# Selecting the solar neighboorhood"
   ]
  },
  {
   "cell_type": "code",
   "execution_count": 38,
   "metadata": {},
   "outputs": [],
   "source": [
    "keep_cr_sn=(x_resonance_cr<8.5)*(x_resonance_cr>7.5)*(y_resonance_cr<0.5)*(y_resonance_cr>-0.5)*(z_resonance_cr<0.5)*(z_resonance_cr>-0.5)\n",
    "keep_olr_sn=(x_resonance_olr<8.5)*(x_resonance_olr>7.5)*(y_resonance_olr<0.5)*(y_resonance_olr>-0.5)*(z_resonance_olr<0.5)*(z_resonance_olr>-0.5)\n",
    "\n",
    "#keep_cr_sn=(x_resonance_cr<8.5)*(x_resonance_cr>7.5)\n",
    "#keep_olr_sn=(x_resonance_olr<8.5)*(x_resonance_olr>7.5)"
   ]
  },
  {
   "cell_type": "markdown",
   "metadata": {},
   "source": [
    "# CR in the Solar Neighborhood"
   ]
  },
  {
   "cell_type": "code",
   "execution_count": 39,
   "metadata": {},
   "outputs": [],
   "source": [
    "x_resonance_cr_sr=x_resonance_cr[keep_cr_sn]\n",
    "y_resonance_cr_sr=(y_resonance_cr[keep_cr_sn])\n",
    "z_resonance_cr_sr=(z_resonance_cr[keep_cr_sn])\n",
    "vr_resonance_cr_sr=(vr_resonance_cr[keep_cr_sn])\n",
    "vphi_resonance_cr_sr=(vphi_resonance_cr[keep_cr_sn])\n",
    "vzz_resonance_cr_sr=(vzz_resonance_cr[keep_cr_sn])\n",
    "\n",
    "r_resonance_cr_sr=r_resonance_cr[keep_cr_sn]\n",
    "\n",
    "phi_resonance_cr_sr=phi_resonance_cr[keep_cr_sn]\n",
    "\n",
    "idd_resonance_cr_sr=idd_resonance_cr[keep_cr_sn]\n",
    "\n",
    "datafilename=str(snapshot)+\"idd_resonance_cr_sr.pkl\"\n",
    "with open(save_datapath+datafilename, 'wb') as output:\n",
    "        pickle.dump(idd_resonance_cr_sr, output)\n",
    "\n"
   ]
  },
  {
   "cell_type": "markdown",
   "metadata": {},
   "source": [
    "# OLR in the Solar Neighborhood"
   ]
  },
  {
   "cell_type": "code",
   "execution_count": 40,
   "metadata": {},
   "outputs": [],
   "source": [
    "x_resonance_olr_sr=(x_resonance_olr[keep_olr_sn])\n",
    "y_resonance_olr_sr=(y_resonance_olr[keep_olr_sn])\n",
    "z_resonance_olr_sr=(z_resonance_olr[keep_olr_sn])\n",
    "vr_resonance_olr_sr=(vr_resonance_olr[keep_olr_sn])\n",
    "vphi_resonance_olr_sr=(vphi_resonance_olr[keep_olr_sn])\n",
    "vzz_resonance_olr_sr=(vzz_resonance_olr[keep_olr_sn])\n",
    "\n",
    "r_resonance_olr_sr=r_resonance_olr[keep_olr_sn]\n",
    "phi_resonance_olr_sr=phi_resonance_olr[keep_olr_sn]\n",
    "\n",
    "\n",
    "idd_resonance_olr_sr=idd_resonance_olr[keep_olr_sn]\n",
    "\n",
    "datafilename=str(snapshot)+\"idd_resonance_olr_sr.pkl\"\n",
    "with open(save_datapath+datafilename, 'wb') as output:\n",
    "        pickle.dump(idd_resonance_olr_sr, output)"
   ]
  },
  {
   "cell_type": "markdown",
   "metadata": {},
   "source": [
    "# Printing resonance data"
   ]
  },
  {
   "cell_type": "code",
   "execution_count": 41,
   "metadata": {},
   "outputs": [
    {
     "name": "stdout",
     "output_type": "stream",
     "text": [
      "Ones with OLR resonance in the solar neighborhood:  [-0.4767315  -0.48926395 -0.41576856 ... -0.38168442 -0.3654672\n",
      " -0.4947706 ]\n",
      "Ones with CR resonance in the solar neighborhood:  [-0.3898509  -0.30201742 -0.47523853 -0.45561197 -0.40666652 -0.31176656\n",
      " -0.33146653 -0.40994775 -0.3876316  -0.4994129  -0.47330716 -0.31531408\n",
      " -0.36181733 -0.37050796 -0.40923077 -0.47224006 -0.4153304  -0.41890717\n",
      " -0.4558683  -0.2567558  -0.38633263 -0.30813092 -0.30899268 -0.2807244\n",
      " -0.35766286 -0.47835383 -0.47783205 -0.3416365  -0.45079082  0.06671606\n",
      "  0.07029183 -0.08252085 -0.14678746 -0.22451203 -0.21008748 -0.22009337\n",
      "  0.16939488  0.12462071  0.1394269   0.21042842  0.08250571  0.14882997\n",
      "  0.2622992   0.3474161   0.34134674  0.28543517  0.28703356  0.35254717\n",
      "  0.30124706  0.37033254  0.0935019   0.07621276  0.08851692  0.12075472\n",
      "  0.08260311  0.09726837  0.19221126  0.27285478  0.3903062   0.27793857\n",
      "  0.23520254  0.33983722 -0.02964663 -0.22795609 -0.17452659 -0.21524398\n",
      " -0.11010899 -0.02702774 -0.04187471 -0.08348963  0.05815888 -0.04727112\n",
      " -0.03491469  0.03317471  0.07015097 -0.06898601 -0.22853586 -0.24489729\n",
      " -0.21969526 -0.17449215 -0.11989225 -0.02527113 -0.08724535  0.06528571\n",
      " -0.00151505 -0.03103566 -0.18969144 -0.13683276 -0.16001472 -0.20017584\n",
      " -0.16884075  0.0556811  -0.04830958 -0.03628116  0.05469059 -0.10991418\n",
      " -0.20817493 -0.09810542 -0.06628791  0.0025634   0.19366199  0.16170815\n",
      "  0.2123674   0.09128143  0.13527271  0.22393309  0.25423557  0.356567\n",
      "  0.33638093  0.3663627   0.3801994   0.37636632  0.37374863  0.3868491\n",
      "  0.339481    0.24586576  0.16125555  0.12341755  0.13569833  0.21357995\n",
      "  0.27571818  0.23266283  0.36934546  0.2443272   0.31226423  0.25952724\n",
      "  0.31799316  0.36132753  0.07608398  0.07314475  0.07880754  0.19654587\n",
      " -0.08022279  0.01550198 -0.00863643 -0.05505679 -0.02154267 -0.16109306\n",
      " -0.16094127 -0.09025003 -0.19631875 -0.14705767 -0.11015318 -0.19914135\n",
      " -0.11645225 -0.13549975 -0.11258706 -0.18132855 -0.12627617 -0.10541844\n",
      " -0.08906784  0.03417918  0.06679279 -0.0065898  -0.0443178  -0.1193658\n",
      " -0.11082292 -0.11904777 -0.17481631 -0.24823776 -0.18712752 -0.00284396\n",
      " -0.03628208 -0.01453847  0.03487831 -0.15795068 -0.19218202 -0.15978621\n",
      " -0.16438925 -0.18253344 -0.1552291  -0.19176343 -0.21025465 -0.20794015\n",
      " -0.17857538 -0.09576985  0.00827567 -0.02703992 -0.0138724   0.10479231\n",
      "  0.22410007  0.15880321  0.07854532  0.35332048  0.27600434  0.310868\n",
      "  0.23639242  0.25143814  0.28661326  0.3110389   0.39108974  0.3494234\n",
      "  0.35992718  0.08707643  0.10044903  0.1112102   0.21107717  0.2693352\n",
      "  0.11995476  0.15683307  0.2392446   0.13663296 -0.02001349  0.00937236\n",
      "  0.03170605 -0.15574251 -0.18708542 -0.44119194 -0.42758295 -0.4968406\n",
      " -0.44980818 -0.47047505 -0.47085163 -0.39290878 -0.294999   -0.28566578\n",
      " -0.30693772 -0.28711054 -0.2916761  -0.36929077 -0.4610814  -0.3001915\n",
      " -0.25952402 -0.27684164 -0.32201007 -0.37164223 -0.49453837 -0.4299148\n",
      " -0.3529393  -0.3324621  -0.27724153 -0.32605487 -0.30941135 -0.34169778\n",
      " -0.25522354 -0.2888725  -0.32193258 -0.35855368 -0.4005442  -0.25278494\n",
      " -0.3529873  -0.41314253 -0.44163185 -0.49341682 -0.49713206 -0.48389024\n",
      " -0.4378902  -0.43439242 -0.49467048 -0.42698824 -0.46903393 -0.29750392\n",
      " -0.33838454 -0.31520694 -0.4167437   0.03208584  0.27460894  0.21522301\n",
      " -0.09349126 -0.11979304 -0.148556   -0.17224158 -0.21523975 -0.15860765\n",
      " -0.24755336  0.04151266 -0.04847794  0.26448146  0.38361436  0.48268342\n",
      "  0.46259847  0.45549697  0.41697714  0.4927385   0.48366672  0.4208453\n",
      "  0.49451876  0.43132538  0.46150282  0.44467857  0.44717672  0.47524002\n",
      "  0.42928016  0.42261317  0.4536063   0.415209    0.40507117  0.46092513\n",
      "  0.44595078  0.4436877   0.41641584  0.43589115  0.44183978  0.45627263\n",
      "  0.41332373  0.4501442   0.4211969   0.48286095  0.43447703  0.41349706\n",
      "  0.4994981   0.41325518  0.39358065  0.48435998  0.42402014  0.46063682\n",
      "  0.4905891   0.45764494  0.45785838  0.3292497   0.38589907  0.15830465\n",
      "  0.02323166 -0.05616619  0.06429469  0.03645122 -0.1382095  -0.24749227\n",
      " -0.1700547  -0.28165567 -0.40044755 -0.45393357 -0.42616457 -0.45184138\n",
      " -0.258873   -0.37648368 -0.43459615 -0.39126796 -0.2620698  -0.09369233\n",
      " -0.23490632 -0.24357828  0.198199    0.34182203  0.2837675   0.09245834\n",
      "  0.09811901  0.16400519  0.3156256  -0.08697353 -0.04988953 -0.1408335\n",
      " -0.22521056 -0.02718875  0.07290366 -0.31894866]\n"
     ]
    }
   ],
   "source": [
    "print(\"Ones with OLR resonance in the solar neighborhood: \",y_resonance_olr_sr)\n",
    "print(\"Ones with CR resonance in the solar neighborhood: \",y_resonance_cr_sr)"
   ]
  },
  {
   "cell_type": "markdown",
   "metadata": {},
   "source": [
    "# Plotting x and y of resonance regions in the entire galaxy"
   ]
  },
  {
   "cell_type": "code",
   "execution_count": 44,
   "metadata": {},
   "outputs": [
    {
     "name": "stdout",
     "output_type": "stream",
     "text": [
      "Plot generated and saved to file:  700B3-N_y_vs_x_with_CR_resonance_regions_only.jpg\n"
     ]
    }
   ],
   "source": [
    "fig3=plt.figure()\n",
    "ax=fig3.add_subplot(111)\n",
    "#ax.text(8,300,r\"Snapshot %s, Slice: -5<$\\phi$<5\"%(str(snapshot)))\n",
    "#cb1=ax.hexbin(x_select,y_select,extent=((-35,35,-35,35)),gridsize=500,mincnt=1,C=Ordisk,vmin=1,vmax=40)\n",
    "cb1=ax.hexbin(x_select,y_select,extent=((-35,35,-35,35)),gridsize=500,mincnt=1,bins='log')\n",
    "ax.scatter(x_resonance_cr,y_resonance_cr,c=\"black\",marker=\".\",s=0.01,label=\"CR\")\n",
    "#ax.scatter(x_resonance_olr,y_resonance_olr,c=\"red\",marker=\".\",s=0.01,label=\"OLR\")\n",
    "#ax.scatter(x_resonance_cr_sr,y_resonance_cr_sr,c=\"yellow\",marker=\".\",s=0.1,label=\"CR-SN\")\n",
    "#ax.scatter(x_resonance_olr_sr,y_resonance_olr_sr,c=\"orange\",marker=\".\",s=0.1,label=\"OLR-SN\")\n",
    "ax.set_xlabel(\"x\")\n",
    "ax.set_ylabel(\"y\")\n",
    "ax.legend(bbox_to_anchor=(1.13,0.93), loc='center left',markerscale=20)\n",
    "ax.text(13,30,r\"Snapshot 700 (B3-N)\")\n",
    "#ax.set_xlim(7.5,8.5)\n",
    "#ax.set_ylim(-0.5,0.5)\n",
    "cbar_ax = fig3.add_axes([0.91, 0.12, 0.03, 0.76]) # position of the colorbar (left, bottom, width, height)\n",
    "fig3.colorbar(cb1, cax=cbar_ax)\n",
    "cbar_ax.set_ylabel(r'n$_{star}$')\n",
    "cbar_ax.yaxis.label.set_size(10)\n",
    "plotname=str(snapshot)+\"B3-N_y_vs_x_with_CR_resonance_regions_only.jpg\"\n",
    "#ax.set_aspect('equal')\n",
    "fig3.savefig(plotpath+plotname,bbox_inches=\"tight\",dpi=250)\n",
    "print(\"Plot generated and saved to file: \",plotname)\n",
    "plt.close()"
   ]
  },
  {
   "cell_type": "code",
   "execution_count": 45,
   "metadata": {},
   "outputs": [
    {
     "name": "stdout",
     "output_type": "stream",
     "text": [
      "Plot generated and saved to file:  700B3-N_y_vs_x_with_OLR_over_CR_resonance_regions_only.jpg\n"
     ]
    }
   ],
   "source": [
    "fig3_1=plt.figure()\n",
    "ax=fig3_1.add_subplot(111)\n",
    "#ax.text(8,300,r\"Snapshot %s, Slice: -5<$\\phi$<5\"%(str(snapshot)))\n",
    "#cb1=ax.hexbin(x_select,y_select,extent=((-35,35,-35,35)),gridsize=500,mincnt=1,C=Ordisk,vmin=1,vmax=40)\n",
    "cb1=ax.hexbin(x_select,y_select,extent=((-35,35,-35,35)),gridsize=500,mincnt=1,bins='log')\n",
    "ax.scatter(x_resonance_cr,y_resonance_cr,c=\"black\",marker=\".\",s=0.01,label=\"CR\")\n",
    "ax.scatter(x_resonance_olr,y_resonance_olr,c=\"red\",marker=\".\",s=0.01,label=\"OLR\")\n",
    "#ax.scatter(x_resonance_cr_sr,y_resonance_cr_sr,c=\"yellow\",marker=\".\",s=0.1,label=\"CR-SN\")\n",
    "#ax.scatter(x_resonance_olr_sr,y_resonance_olr_sr,c=\"orange\",marker=\".\",s=0.1,label=\"OLR-SN\")\n",
    "ax.set_xlabel(\"x\")\n",
    "ax.set_ylabel(\"y\")\n",
    "ax.legend(bbox_to_anchor=(1.13,0.93), loc='center left',markerscale=20)\n",
    "ax.text(13,30,r\"Snapshot 700 (B3-N)\")\n",
    "#ax.set_xlim(7.5,8.5)\n",
    "#ax.set_ylim(-0.5,0.5)\n",
    "cbar_ax = fig3_1.add_axes([0.91, 0.12, 0.03, 0.76]) # position of the colorbar (left, bottom, width, height)\n",
    "fig3_1.colorbar(cb1, cax=cbar_ax)\n",
    "cbar_ax.set_ylabel(r'n$_{star}$')\n",
    "cbar_ax.yaxis.label.set_size(10)\n",
    "plotname=str(snapshot)+\"B3-N_y_vs_x_with_OLR_over_CR_resonance_regions_only.jpg\"\n",
    "#ax.set_aspect('equal')\n",
    "fig3_1.savefig(plotpath+plotname,bbox_inches=\"tight\",dpi=250)\n",
    "print(\"Plot generated and saved to file: \",plotname)\n",
    "plt.close()"
   ]
  },
  {
   "cell_type": "code",
   "execution_count": 46,
   "metadata": {},
   "outputs": [
    {
     "name": "stdout",
     "output_type": "stream",
     "text": [
      "Plot generated and saved to file:  700B3-N_y_vs_x_with_CR_SN_over_others_resonance_regions_only.jpg\n"
     ]
    }
   ],
   "source": [
    "fig3_2=plt.figure()\n",
    "ax=fig3_2.add_subplot(111)\n",
    "#ax.text(8,300,r\"Snapshot %s, Slice: -5<$\\phi$<5\"%(str(snapshot)))\n",
    "#cb1=ax.hexbin(x_select,y_select,extent=((-35,35,-35,35)),gridsize=500,mincnt=1,C=Ordisk,vmin=1,vmax=40)\n",
    "cb1=ax.hexbin(x_select,y_select,extent=((-35,35,-35,35)),gridsize=500,mincnt=1,bins='log')\n",
    "ax.scatter(x_resonance_cr,y_resonance_cr,c=\"black\",marker=\".\",s=0.01,label=\"CR\")\n",
    "ax.scatter(x_resonance_olr,y_resonance_olr,c=\"red\",marker=\".\",s=0.01,label=\"OLR\")\n",
    "ax.scatter(x_resonance_cr_sr,y_resonance_cr_sr,c=\"yellow\",marker=\".\",s=0.1,label=\"CR-SN\")\n",
    "#ax.scatter(x_resonance_olr_sr,y_resonance_olr_sr,c=\"orange\",marker=\".\",s=0.1,label=\"OLR-SN\")\n",
    "ax.set_xlabel(\"x\")\n",
    "ax.set_ylabel(\"y\")\n",
    "ax.legend(bbox_to_anchor=(1.13,0.93), loc='center left',markerscale=15)\n",
    "ax.text(13,30,r\"Snapshot 700 (B3-N)\")\n",
    "#ax.set_xlim(7.5,8.5)\n",
    "#ax.set_ylim(-0.5,0.5)\n",
    "cbar_ax = fig3_2.add_axes([0.91, 0.12, 0.03, 0.76]) # position of the colorbar (left, bottom, width, height)\n",
    "fig3_2.colorbar(cb1, cax=cbar_ax)\n",
    "cbar_ax.set_ylabel(r'n$_{star}$')\n",
    "cbar_ax.yaxis.label.set_size(10)\n",
    "plotname=str(snapshot)+\"B3-N_y_vs_x_with_CR_SN_over_others_resonance_regions_only.jpg\"\n",
    "#ax.set_aspect('equal')\n",
    "fig3_2.savefig(plotpath+plotname,bbox_inches=\"tight\",dpi=250)\n",
    "print(\"Plot generated and saved to file: \",plotname)\n",
    "plt.close()"
   ]
  },
  {
   "cell_type": "code",
   "execution_count": 47,
   "metadata": {},
   "outputs": [
    {
     "name": "stdout",
     "output_type": "stream",
     "text": [
      "Plot generated and saved to file:  700B3-N_y_vs_x_with_all_resonance_regions.jpg\n"
     ]
    }
   ],
   "source": [
    "fig3_3=plt.figure()\n",
    "ax=fig3_3.add_subplot(111)\n",
    "#ax.text(8,300,r\"Snapshot %s, Slice: -5<$\\phi$<5\"%(str(snapshot)))\n",
    "#cb1=ax.hexbin(x_select,y_select,extent=((-35,35,-35,35)),gridsize=500,mincnt=1,C=Ordisk,vmin=1,vmax=40)\n",
    "cb1=ax.hexbin(x_select,y_select,extent=((-35,35,-35,35)),gridsize=500,mincnt=1,bins='log')\n",
    "ax.scatter(x_resonance_cr,y_resonance_cr,c=\"black\",marker=\".\",s=0.01,label=\"CR\")\n",
    "ax.scatter(x_resonance_olr,y_resonance_olr,c=\"red\",marker=\".\",s=0.01,label=\"OLR\")\n",
    "ax.scatter(x_resonance_cr_sr,y_resonance_cr_sr,c=\"yellow\",marker=\".\",s=0.1,label=\"CR-SN\")\n",
    "ax.scatter(x_resonance_olr_sr,y_resonance_olr_sr,c=\"orange\",marker=\".\",s=0.1,label=\"OLR-SN\")\n",
    "ax.set_xlabel(\"x\")\n",
    "ax.set_ylabel(\"y\")\n",
    "ax.legend(bbox_to_anchor=(1.13,0.93), loc='center left',markerscale=15)\n",
    "ax.text(13,30,r\"Snapshot 700 (B3-N)\")\n",
    "#ax.set_xlim(7.5,8.5)\n",
    "#ax.set_ylim(-0.5,0.5)\n",
    "cbar_ax = fig3_3.add_axes([0.91, 0.12, 0.03, 0.76]) # position of the colorbar (left, bottom, width, height)\n",
    "fig3_3.colorbar(cb1, cax=cbar_ax)\n",
    "cbar_ax.set_ylabel(r'n$_{star}$')\n",
    "cbar_ax.yaxis.label.set_size(10)\n",
    "plotname=str(snapshot)+\"B3-N_y_vs_x_with_all_resonance_regions.jpg\"\n",
    "#ax.set_aspect('equal')\n",
    "fig3_3.savefig(plotpath+plotname,bbox_inches=\"tight\",dpi=250)\n",
    "print(\"Plot generated and saved to file: \",plotname)\n",
    "plt.close()"
   ]
  },
  {
   "cell_type": "code",
   "execution_count": 31,
   "metadata": {},
   "outputs": [
    {
     "name": "stdout",
     "output_type": "stream",
     "text": [
      "Plot generated and saved to file:  700B3-N_y_vs_x_with_resonance_regions_whole_galaxy.jpg\n"
     ]
    }
   ],
   "source": [
    "fig4=plt.figure()\n",
    "ax=fig4.add_subplot(111)\n",
    "#ax.text(8,300,r\"Snapshot %s, Slice: -5<$\\phi$<5\"%(str(snapshot)))\n",
    "#cb1=ax.hexbin(x_select,y_select,extent=((-35,35,-35,35)),gridsize=500,mincnt=1,C=Ordisk,vmin=1,vmax=40)\n",
    "cb1=ax.hexbin(x_select,y_select,extent=((-35,35,-35,35)),gridsize=500,mincnt=1,bins='log')\n",
    "ax.scatter(x_resonance_cr,y_resonance_cr,c=\"black\",marker=\".\",s=0.01,label=\"CR\")\n",
    "ax.scatter(x_resonance_olr,y_resonance_olr,c=\"red\",marker=\".\",s=0.01,label=\"OLR\")\n",
    "ax.scatter(x_resonance_cr_sr,y_resonance_cr_sr,c=\"yellow\",marker=\".\",s=0.1,label=\"CR-SN\")\n",
    "ax.scatter(x_resonance_olr_sr,y_resonance_olr_sr,c=\"orange\",marker=\".\",s=0.1,label=\"OLR-SN\")\n",
    "ax.set_xlabel(\"x\")\n",
    "ax.set_ylabel(\"y\")\n",
    "ax.legend(bbox_to_anchor=(1.13,0.93), loc='center left',markerscale=9)\n",
    "ax.text(13,30,r\"Snapshot 700 (B3-N)\")\n",
    "#ax.set_xlim(7.5,8.5)\n",
    "#ax.set_ylim(-0.5,0.5)\n",
    "cbar_ax = fig4.add_axes([0.91, 0.12, 0.03, 0.76]) # position of the colorbar (left, bottom, width, height)\n",
    "fig4.colorbar(cb1, cax=cbar_ax)\n",
    "cbar_ax.set_ylabel(r'n$_{star}$')\n",
    "cbar_ax.yaxis.label.set_size(10)\n",
    "plotname=str(snapshot)+\"B3-N_y_vs_x_with_resonance_regions_whole_galaxy.jpg\"\n",
    "fig4.savefig(plotpath+plotname,bbox_inches=\"tight\",dpi=250)\n",
    "print(\"Plot generated and saved to file: \",plotname)\n",
    "plt.close()"
   ]
  },
  {
   "cell_type": "code",
   "execution_count": 39,
   "metadata": {},
   "outputs": [
    {
     "name": "stdout",
     "output_type": "stream",
     "text": [
      "1330516\n",
      "353236\n",
      "346\n",
      "2112\n"
     ]
    }
   ],
   "source": [
    "print(len(x_resonance_olr))\n",
    "print(len(x_resonance_cr))\n",
    "print(len(x_resonance_cr_sr))\n",
    "print(len(x_resonance_olr_sr))"
   ]
  },
  {
   "cell_type": "code",
   "execution_count": 34,
   "metadata": {},
   "outputs": [
    {
     "name": "stdout",
     "output_type": "stream",
     "text": [
      "590.5138\n"
     ]
    }
   ],
   "source": [
    "print(np.max(vr_select))\n",
    "plt.close()"
   ]
  },
  {
   "cell_type": "code",
   "execution_count": 35,
   "metadata": {},
   "outputs": [
    {
     "name": "stdout",
     "output_type": "stream",
     "text": [
      "Plot generated and saved to file:  700B3-N_v_phi_vs_vr_with_resonance_regions.jpg\n"
     ]
    }
   ],
   "source": [
    "fig5=plt.figure()\n",
    "ax=fig5.add_subplot(111)\n",
    "#ax.text(8,300,r\"Snapshot %s, Slice: -5<$\\phi$<5\"%(str(snapshot)))\n",
    "#cb1=ax.hexbin(x_select,y_select,extent=((-35,35,-35,35)),gridsize=500,mincnt=1,C=Ordisk,vmin=1,vmax=40)\n",
    "cb1=ax.hexbin(vr,vphi,extent=((-600,600,-600,600)),gridsize=500,mincnt=1,bins='log')\n",
    "ax.set_xlabel(\"vR\")\n",
    "ax.set_ylabel(r\"v$\\phi$\")\n",
    "ax.scatter(vr_resonance_cr,vphi_resonance_cr,c=\"black\",marker=\".\",s=0.01,label=\"CR\")\n",
    "ax.scatter(vr_resonance_olr,vphi_resonance_olr,c=\"red\",marker=\".\",s=0.01,label=\"OLR\")\n",
    "ax.scatter(vr_resonance_cr_sr,vphi_resonance_cr_sr,c=\"yellow\",marker=\".\",s=0.1,label=\"CR-SN\")\n",
    "ax.scatter(vr_resonance_olr_sr,vphi_resonance_olr_sr,c=\"orange\",marker=\".\",s=0.1,label=\"OLR-SN\")\n",
    "ax.legend(bbox_to_anchor=(1.13,0.93), loc='center left',markerscale=9)\n",
    "ax.text(248,550,r\"Snapshot 700 (B3-N)\")\n",
    "\n",
    "cbar_ax = fig5.add_axes([0.91, 0.12, 0.03, 0.76]) # position of the colorbar (left, bottom, width, height)\n",
    "fig5.colorbar(cb1, cax=cbar_ax)\n",
    "cbar_ax.set_ylabel(r'n$_{star}$')\n",
    "cbar_ax.yaxis.label.set_size(10)\n",
    "plotname=str(snapshot)+\"B3-N_v_phi_vs_vr_with_resonance_regions.jpg\"\n",
    "fig5.savefig(plotpath+plotname,bbox_inches=\"tight\",dpi=200)\n",
    "print(\"Plot generated and saved to file: \",plotname)\n",
    "plt.close()"
   ]
  },
  {
   "cell_type": "code",
   "execution_count": null,
   "metadata": {},
   "outputs": [],
   "source": []
  },
  {
   "cell_type": "code",
   "execution_count": 36,
   "metadata": {},
   "outputs": [
    {
     "name": "stdout",
     "output_type": "stream",
     "text": [
      "Plot generated and saved to file:  700B3-N_v_phi_vs_vr_with_resonance_region_in_sn_slice.jpg\n"
     ]
    }
   ],
   "source": [
    "fig5_1=plt.figure()\n",
    "ax=fig5_1.add_subplot(111)\n",
    "#ax.text(8,300,r\"Snapshot %s, Slice: -5<$\\phi$<5\"%(str(snapshot)))\n",
    "#cb1=ax.hexbin(x_select,y_select,extent=((-35,35,-35,35)),gridsize=500,mincnt=1,C=Ordisk,vmin=1,vmax=40)\n",
    "cb1=ax.hexbin(vr_sn,vphi_sn,extent=((-200,200,50,300)),gridsize=500,mincnt=1,vmin=1,vmax=30)\n",
    "ax.set_xlabel(\"vR\")\n",
    "ax.set_ylabel(r\"v$\\phi$\")\n",
    "#ax.scatter(vr_resonance_cr,vphi_resonance_cr,c=\"black\",marker=\".\",s=0.01,label=\"CR\")\n",
    "#ax.scatter(vr_resonance_olr,vphi_resonance_olr,c=\"red\",marker=\".\",s=0.01,label=\"OLR\")\n",
    "ax.scatter(vr_resonance_cr_sr,vphi_resonance_cr_sr,c=\"yellow\",marker=\"*\",s=0.3,label=\"CR-SN\")\n",
    "ax.scatter(vr_resonance_olr_sr,vphi_resonance_olr_sr,c=\"orange\",marker=\"*\",s=0.3,label=\"OLR-SN\")\n",
    "ax.legend(bbox_to_anchor=(1.13,0.93), loc='center left',markerscale=9)\n",
    "ax.text(80,285,r\"Snapshot 700 (B3-N)\")\n",
    "ax.text(-180,285,r\"7.5<x<8.5, -0.5<y<0.5, -0.5<z<0.5\")\n",
    "\n",
    "cbar_ax = fig5_1.add_axes([0.91, 0.12, 0.03, 0.76]) # position of the colorbar (left, bottom, width, height)\n",
    "fig5_1.colorbar(cb1, cax=cbar_ax)\n",
    "cbar_ax.set_ylabel(r'n$_{star}$')\n",
    "cbar_ax.yaxis.label.set_size(10)\n",
    "plotname=str(snapshot)+\"B3-N_v_phi_vs_vr_with_resonance_region_in_sn_slice.jpg\"\n",
    "fig5_1.savefig(plotpath+plotname,bbox_inches=\"tight\",dpi=300)\n",
    "print(\"Plot generated and saved to file: \",plotname)\n",
    "plt.close()"
   ]
  },
  {
   "cell_type": "markdown",
   "metadata": {},
   "source": [
    "# Selecting a small angular region for analysis"
   ]
  },
  {
   "cell_type": "code",
   "execution_count": 37,
   "metadata": {},
   "outputs": [
    {
     "name": "stdout",
     "output_type": "stream",
     "text": [
      "353236\n",
      "Plot generated and saved to file:  700B3-N_v_phi_vs_r_with_resonance_regions.jpg\n"
     ]
    }
   ],
   "source": [
    "keep_phi=(phi_select<5)*(phi_select>-5)\n",
    "vphi_slice=vphi_select[keep_phi]\n",
    "\n",
    "r_slice=r_select[keep_phi]\n",
    "\n",
    "fig6=plt.figure()\n",
    "ax=fig6.add_subplot(212)\n",
    "ax1=fig6.add_subplot(211)\n",
    "#ax.text(8,300,r\"Snapshot %s, Slice: -5<$\\phi$<5\"%(str(snapshot)))\n",
    "#cb1=ax.hexbin(x_select,y_select,extent=((-35,35,-35,35)),gridsize=500,mincnt=1,C=Ordisk,vmin=1,vmax=40)\n",
    "cb1=ax.hexbin(r_slice,vphi_slice,extent=((5,15,50,300)),gridsize=500,mincnt=1,vmin=1,vmax=80)\n",
    "ax.set_xlabel(\"R\")\n",
    "ax.set_ylabel(r\"v$\\phi$\")\n",
    "ax_cr=ax.scatter(r_resonance_cr_phi_slice,vphi_resonance_cr_phi_slice,c=\"black\",marker=\".\",s=0.1,label=\"CR\")\n",
    "print(len(r_resonance_cr))\n",
    "ax_olr=ax.scatter(r_resonance_olr_phi_slice,vphi_resonance_olr_phi_slice,c=\"red\",marker=\".\",s=0.1,label=\"OLR\")\n",
    "ax.scatter(r_resonance_cr_sr,vphi_resonance_cr_sr,c=\"yellow\",marker=\"*\",s=0.1,label=\"CR-SN\")\n",
    "ax.scatter(r_resonance_olr_sr,vphi_resonance_olr_sr,c=\"orange\",marker=\"*\",s=0.1,label=\"OLR-SN\")\n",
    "\n",
    "cbar_ax = fig6.add_axes([0.91, 0.12, 0.03, 0.76]) # position of the colorbar (left, bottom, width, height)\n",
    "fig6.colorbar(cb1, cax=cbar_ax)\n",
    "cbar_ax.set_ylabel(r'n$_{star}$')\n",
    "cbar_ax.yaxis.label.set_size(10)\n",
    "ax.set_xlim(5,15)\n",
    "ax.set_ylim(50,300)\n",
    "#ax.legend(bbox_to_anchor=(0.77,0.93), loc='center left',markerscale=9)\n",
    "ax.legend(bbox_to_anchor=(1.13,1.6), loc='center left',markerscale=9)\n",
    "\n",
    "ax1.hexbin(r_slice,vphi_slice,extent=((5,15,50,300)),gridsize=500,mincnt=1,vmin=1,vmax=80)\n",
    "ax1.set_xlim(5,15)\n",
    "ax1.set_ylim(50,300)\n",
    "ax1.text(12,270,r\"Slice -5<$\\phi$<5\")\n",
    "#ax.legend(markerscale=6)\n",
    "plotname=str(snapshot)+\"B3-N_v_phi_vs_r_with_resonance_regions.jpg\"\n",
    "fig6.savefig(plotpath+plotname,bbox_inches=\"tight\",dpi=300)\n",
    "print(\"Plot generated and saved to file: \",plotname)\n",
    "plt.close()"
   ]
  },
  {
   "cell_type": "code",
   "execution_count": null,
   "metadata": {},
   "outputs": [],
   "source": [
    "print(r_resonance_cr_sr)"
   ]
  },
  {
   "cell_type": "code",
   "execution_count": null,
   "metadata": {},
   "outputs": [],
   "source": []
  },
  {
   "cell_type": "markdown",
   "metadata": {},
   "source": [
    "# Loading new sims demo !!!!"
   ]
  },
  {
   "cell_type": "code",
   "execution_count": null,
   "metadata": {},
   "outputs": [],
   "source": [
    "from procedure import *"
   ]
  },
  {
   "cell_type": "code",
   "execution_count": null,
   "metadata": {},
   "outputs": [],
   "source": [
    "path"
   ]
  },
  {
   "cell_type": "code",
   "execution_count": null,
   "metadata": {},
   "outputs": [],
   "source": [
    "snaparr = loadwholesnap(path,90)"
   ]
  },
  {
   "cell_type": "code",
   "execution_count": null,
   "metadata": {},
   "outputs": [],
   "source": [
    "print(snaparr[0].dtype)"
   ]
  },
  {
   "cell_type": "code",
   "execution_count": null,
   "metadata": {},
   "outputs": [],
   "source": [
    "snaparr[(snaparr['x']>3)&(snaparr['y']<2)]['z']"
   ]
  },
  {
   "cell_type": "code",
   "execution_count": null,
   "metadata": {},
   "outputs": [],
   "source": [
    "np.where(snaparr['idd']==241071075)[0]"
   ]
  },
  {
   "cell_type": "code",
   "execution_count": null,
   "metadata": {},
   "outputs": [],
   "source": []
  }
 ],
 "metadata": {
  "interpreter": {
   "hash": "6f49258605f7cf164064b7cdb9c998ca72afab938262f6585b3280eb87db805c"
  },
  "kernelspec": {
   "display_name": "Python 3",
   "language": "python",
   "name": "python3"
  },
  "language_info": {
   "codemirror_mode": {
    "name": "ipython",
    "version": 3
   },
   "file_extension": ".py",
   "mimetype": "text/x-python",
   "name": "python",
   "nbconvert_exporter": "python",
   "pygments_lexer": "ipython3",
   "version": "3.8.8"
  },
  "orig_nbformat": 4
 },
 "nbformat": 4,
 "nbformat_minor": 2
}
