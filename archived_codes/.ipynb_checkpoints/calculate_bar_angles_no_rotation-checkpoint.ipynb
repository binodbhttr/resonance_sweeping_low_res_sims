{
 "cells": [
  {
   "cell_type": "code",
   "execution_count": null,
   "id": "30f8adc2-49d1-45f8-92e3-d432b2419fce",
   "metadata": {},
   "outputs": [],
   "source": [
    "import numpy as np \n",
    "import pickle\n",
    "from matplotlib import pyplot as plt\n",
    "from galpy.util import coords as coords\n",
    "import os\n",
    "import sys\n",
    "from procedure import *\n",
    "\n",
    "save_datapath=\"./\"\n",
    "#plotpath=\"/mnt/home/bbhattarai/resonance_sweeping/New_Sims_Analysis/plots/\"\n",
    "#local_datapath=\"./resonance_sweeping/localdata/\"\n",
    "\n",
    "#data={}\n",
    "######\n",
    "######\n",
    "#This part of the code captures number from the sbatch script to run things parallel\n",
    "\n",
    "#argdex = int(sys.argv[1])\n",
    "#start  = int(argdex*131)-131\n",
    "#finish = int(argdex*131)\n",
    "\n",
    "\n",
    "start=240\n",
    "finish=510\n",
    "\n",
    "a=list()\n",
    "for i in range(start,finish):\n",
    "    snapshot=i\n",
    "    snaparr = loadwholesnap(path,snapshot)\n",
    "    idd=snaparr['idd']\n",
    "    x=snaparr['x']\n",
    "    y=snaparr['y']\n",
    "    z=snaparr['z']\n",
    "    vx=snaparr['vx']\n",
    "    vy=snaparr['vy']\n",
    "    vz=snaparr['vz']  \n",
    "    mass=snaparr['mass']  #note mass here is in solar mass (use the factor 2.324876e9)\n",
    "    \n",
    "    vr=snaparr['vr']\n",
    "    vphi=snaparr['vphi']\n",
    "    vzz=snaparr['vzz']\n",
    "    r=snaparr['r']\n",
    "    phi=snaparr['phi']\n",
    "    zz=snaparr['zz']\n",
    "    \n",
    "    \n",
    "    #calculating bar_angle\n",
    "    discindx=(mass<5000)\n",
    "    barsample=(r>1)*(r<3)*discindx\n",
    "    counts, bins, patches=plt.hist(phi[barsample],bins=360,range=[-np.pi,np.pi])\n",
    "    ff=np.fft.fft(counts-np.mean(counts))\n",
    "    barangle=-np.angle(ff[2])/2.\n",
    "    \n",
    "    barangle_degrees=np.rad2deg(barangle)\n",
    "    print(\"caclulated barangle at snapshot:\",i)\n",
    "    print(\"Bar angle is:\",barangle_degrees)\n",
    "    a.append(barangle_degrees)\n",
    "    \n",
    "\n",
    "datafilename=str(start)+\"_to_\"+str(finish)+\"_fft_barangles_sim_low_res.ang\"\n",
    "bangle=np.array(a)\n",
    "with open(save_datapath+datafilename, 'wb') as output:\n",
    "        pickle.dump(bangle, output)"
   ]
  },
  {
   "cell_type": "code",
   "execution_count": null,
   "id": "458056d5-dd10-433b-9d06-8c4e97cc3a08",
   "metadata": {},
   "outputs": [],
   "source": []
  },
  {
   "cell_type": "code",
   "execution_count": 12,
   "id": "b30bd2b3-c2e2-4d4b-99bb-0084311bad40",
   "metadata": {},
   "outputs": [
    {
     "name": "stdout",
     "output_type": "stream",
     "text": [
      "241\n",
      "270\n"
     ]
    }
   ],
   "source": [
    "datafilename1=\"0_to_240_fft_barangles_sim_low_res.ang\"\n",
    "ang_stored1 = open(datafilename1,'rb')\n",
    "all_bangles1=pickle.load(ang_stored1)\n",
    "print(len(all_bangles1))\n",
    "\n",
    "\n",
    "\n",
    "datafilename2=\"240_to_510_fft_barangles_sim_low_res.ang\"\n",
    "ang_stored2 = open(datafilename2,'rb')\n",
    "all_bangles2=pickle.load(ang_stored2)\n",
    "print(len(all_bangles2))"
   ]
  },
  {
   "cell_type": "code",
   "execution_count": 13,
   "id": "f60169f7-52b4-4ad8-8d5e-b739a4822c0d",
   "metadata": {},
   "outputs": [],
   "source": [
    "arr1=all_bangles1\n",
    "arr2=all_bangles2"
   ]
  },
  {
   "cell_type": "code",
   "execution_count": null,
   "id": "4a375b8c-735e-41dc-992a-9dd42487cddc",
   "metadata": {},
   "outputs": [],
   "source": []
  },
  {
   "cell_type": "code",
   "execution_count": null,
   "id": "5fe6f7e3-3737-4251-8f32-d09c2f48bcc8",
   "metadata": {},
   "outputs": [],
   "source": []
  },
  {
   "cell_type": "code",
   "execution_count": 22,
   "id": "bbc91ed7-9b86-462b-ac58-da7c67c58987",
   "metadata": {},
   "outputs": [
    {
     "name": "stdout",
     "output_type": "stream",
     "text": [
      "270\n",
      "269\n"
     ]
    }
   ],
   "source": [
    "print(len(arr2))\n",
    "arr3=arr2[1:len(arr2)]\n",
    "print(len(arr3))"
   ]
  },
  {
   "cell_type": "code",
   "execution_count": 18,
   "id": "6f965203-9bfa-428d-8917-9a06688f4e87",
   "metadata": {},
   "outputs": [],
   "source": [
    "arr4=np.concatenate((arr1, arr3))"
   ]
  },
  {
   "cell_type": "code",
   "execution_count": 19,
   "id": "4de02aef-99e9-45d9-a57a-abe29f83442e",
   "metadata": {},
   "outputs": [
    {
     "name": "stdout",
     "output_type": "stream",
     "text": [
      "510\n"
     ]
    }
   ],
   "source": [
    "print(len(arr4))"
   ]
  },
  {
   "cell_type": "code",
   "execution_count": null,
   "id": "ab965d08-37d6-44d6-8b60-b504d02c85c6",
   "metadata": {},
   "outputs": [],
   "source": []
  },
  {
   "cell_type": "code",
   "execution_count": 21,
   "id": "b32ff015-143d-48b3-b6f4-39c0c8419f0c",
   "metadata": {},
   "outputs": [],
   "source": [
    "#datafilename=\"0_to_510_fft_barangles_sim_low_res.ang\"\n",
    "#with open(datafilename, 'wb') as output:\n",
    "#        pickle.dump(arr4, output)"
   ]
  },
  {
   "cell_type": "code",
   "execution_count": null,
   "id": "10e83510-38a8-4320-a4f5-e156db5b16d5",
   "metadata": {},
   "outputs": [],
   "source": []
  }
 ],
 "metadata": {
  "kernelspec": {
   "display_name": "Python 3",
   "language": "python",
   "name": "python3"
  },
  "language_info": {
   "codemirror_mode": {
    "name": "ipython",
    "version": 3
   },
   "file_extension": ".py",
   "mimetype": "text/x-python",
   "name": "python",
   "nbconvert_exporter": "python",
   "pygments_lexer": "ipython3",
   "version": "3.8.8"
  }
 },
 "nbformat": 4,
 "nbformat_minor": 5
}
