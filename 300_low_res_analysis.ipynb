{
 "cells": [
  {
   "cell_type": "code",
   "execution_count": null,
   "metadata": {},
   "outputs": [],
   "source": [
    "import numpy as np \n",
    "import pickle\n",
    "from matplotlib import pyplot as plt\n",
    "import galpy.util.coords as coords\n",
    "import os\n",
    "import sys\n",
    "import pandas as pd\n",
    "from procedure import *\n",
    "from scipy import stats"
   ]
  },
  {
   "cell_type": "code",
   "execution_count": null,
   "metadata": {},
   "outputs": [],
   "source": [
    "!pwd"
   ]
  },
  {
   "cell_type": "code",
   "execution_count": null,
   "metadata": {},
   "outputs": [],
   "source": [
    "!hostname\n",
    "!pwd"
   ]
  },
  {
   "cell_type": "code",
   "execution_count": null,
   "metadata": {},
   "outputs": [],
   "source": [
    "datapath=\"/work2/07428/binod/stampede2/LRBB-IoMW/\"\n",
    "freq_datapath=\"/work2/07428/binod/stampede2/resonance_sweeping_low_res_sims/actions_freqs/\"\n",
    "plotpath=\"/home1/07428/binod/work2/resonance_sweeping_low_res_sims/\""
   ]
  },
  {
   "cell_type": "code",
   "execution_count": null,
   "metadata": {},
   "outputs": [],
   "source": [
    "snapshot=300"
   ]
  },
  {
   "cell_type": "code",
   "execution_count": null,
   "metadata": {},
   "outputs": [],
   "source": [
    "freq_datafile=\"DiskActions\"+str(snapshot)+\".npy\""
   ]
  },
  {
   "cell_type": "code",
   "execution_count": null,
   "metadata": {},
   "outputs": [],
   "source": [
    "freqs= np.load(freq_datapath+freq_datafile)"
   ]
  },
  {
   "cell_type": "markdown",
   "metadata": {},
   "source": [
    "# Reading the values from the frequency data"
   ]
  },
  {
   "cell_type": "code",
   "execution_count": null,
   "metadata": {},
   "outputs": [],
   "source": [
    "#Jrdisk=freqs[0]\n",
    "#Jphidisk=freqs[1]\n",
    "#Jzdisk=freqs[2]\n",
    "#Trdisk=freqs[3]\n",
    "#Tphidisk=freqs[4]\n",
    "#Tzdisk=freqs[5]\n",
    "Ordisk=freqs[6]\n",
    "Ophidisk=freqs[7]\n",
    "#Ozdisk=freqs[8]\n",
    "idd_from_freqs=freqs[9]\n",
    "del freqs"
   ]
  },
  {
   "cell_type": "code",
   "execution_count": null,
   "metadata": {},
   "outputs": [],
   "source": [
    "np.max(Ophidisk)\n",
    "print(np.min(Ophidisk))\n",
    "print(Ophidisk)\n",
    "keep_ophi=(np.where((Ophidisk<700) & (Ophidisk>-700)))\n",
    "ophis=Ophidisk[keep_ophi]"
   ]
  },
  {
   "cell_type": "code",
   "execution_count": null,
   "metadata": {},
   "outputs": [],
   "source": [
    "print(ophis)"
   ]
  },
  {
   "cell_type": "code",
   "execution_count": null,
   "metadata": {},
   "outputs": [],
   "source": []
  },
  {
   "cell_type": "code",
   "execution_count": null,
   "metadata": {},
   "outputs": [],
   "source": []
  },
  {
   "cell_type": "code",
   "execution_count": null,
   "metadata": {},
   "outputs": [],
   "source": [
    "'''\n",
    "#maxn=(np.max(n))\n",
    "print(len(n))\n",
    "print(len(bins))\n",
    "n_max_location=np.where(n==np.max(n))\n",
    "bin_location=bins[n_max_location]\n",
    "\n",
    "print(bin_location)\n",
    "print(maxn)\n",
    "'''"
   ]
  },
  {
   "cell_type": "code",
   "execution_count": null,
   "metadata": {},
   "outputs": [],
   "source": [
    "print(np.min(ophis),np.max(ophis))"
   ]
  },
  {
   "cell_type": "code",
   "execution_count": null,
   "metadata": {},
   "outputs": [],
   "source": [
    "keep_ophis=(ophis<30)*(ophis>29)\n",
    "selected_ophis=ophis[keep_ophis]"
   ]
  },
  {
   "cell_type": "markdown",
   "metadata": {},
   "source": [
    "# Reading the snapshot data"
   ]
  },
  {
   "cell_type": "code",
   "execution_count": null,
   "metadata": {},
   "outputs": [],
   "source": [
    "print(len(selected_ophis))"
   ]
  },
  {
   "cell_type": "code",
   "execution_count": null,
   "metadata": {},
   "outputs": [],
   "source": [
    "%%time\n",
    "snaparr= loadwholesnap(path,snapshot)\n",
    "print(\"These are the data we have\",snaparr[0].dtype)\n",
    "idd=snaparr['idd']\n",
    "x=snaparr['x']\n",
    "y=snaparr['y']\n",
    "z=snaparr['z']\n",
    "vx=snaparr['vx']\n",
    "vy=snaparr['vy']\n",
    "vz=snaparr['vz']  \n",
    "mass=snaparr['mass']  #mass is in solar mass (change old mass calculations to take account of the factor 2.324876e9)\n",
    "\n",
    "vr=snaparr['vr']\n",
    "vphi=snaparr['vphi']\n",
    "vzz=snaparr['vzz']\n",
    "r=snaparr['r']\n",
    "phi=snaparr['phi'] #phi is in radians\n",
    "zz=snaparr['zz']\n",
    "\n",
    "#converting phi to degrees\n",
    "phi_degrees=np.rad2deg(phi)\n",
    "del snaparr"
   ]
  },
  {
   "cell_type": "code",
   "execution_count": null,
   "metadata": {},
   "outputs": [],
   "source": [
    "print(np.min(vx),np.max(vx))"
   ]
  },
  {
   "cell_type": "code",
   "execution_count": null,
   "metadata": {},
   "outputs": [],
   "source": []
  },
  {
   "cell_type": "code",
   "execution_count": null,
   "metadata": {},
   "outputs": [],
   "source": [
    "print(np.max(mass),np.min(mass))\n",
    "print(np.unique(mass))"
   ]
  },
  {
   "cell_type": "code",
   "execution_count": null,
   "metadata": {},
   "outputs": [],
   "source": [
    "plt.hist(mass)"
   ]
  },
  {
   "cell_type": "code",
   "execution_count": null,
   "metadata": {},
   "outputs": [],
   "source": [
    "print(vx)\n",
    "print(np.max(vx))"
   ]
  },
  {
   "cell_type": "code",
   "execution_count": null,
   "metadata": {},
   "outputs": [],
   "source": [
    "print(np.min(x))\n",
    "print(np.max(x))"
   ]
  },
  {
   "cell_type": "code",
   "execution_count": null,
   "metadata": {},
   "outputs": [],
   "source": [
    "import numpy as np\n",
    "coreid_array=np.arange(0,8,1)\n",
    "print(coreid_array)"
   ]
  },
  {
   "cell_type": "code",
   "execution_count": null,
   "metadata": {},
   "outputs": [],
   "source": [
    "%%time\n",
    "#plt.hexbin(x,y,extent=((-25,25,-25,25)),gridsize=400,mincnt=1,vmin=1,vmax=1000)\n",
    "\n",
    "plt.hexbin(x,y,extent=((-35,35,-35,35)),gridsize=400,mincnt=1,bins=\"log\")\n"
   ]
  },
  {
   "cell_type": "markdown",
   "metadata": {},
   "source": [
    "# frequency over R"
   ]
  },
  {
   "cell_type": "code",
   "execution_count": null,
   "metadata": {},
   "outputs": [],
   "source": [
    "\n",
    "fig0=plt.figure()\n",
    "ax=fig0.add_subplot(111)\n",
    "nbins=int(len(ophis)**(1/3))\n",
    "print(nbins)\n",
    "n, bins, patches = ax.hist(x=ophis, bins=nbins, color='#0504aa', alpha=0.7,log=\"True\")\n",
    "ax.set_xlabel(r\"$\\Omega$ $_{phi}$\")\n",
    "ax.set_ylabel(\"log(N)\")\n",
    "plotname=\"omega_phi.png\"\n",
    "\n",
    "n_max_location=np.where(n==np.max(n))\n",
    "bin_location=bins[n_max_location]\n",
    "ax.axvline(bin_location,c='red',linestyle='--',lw=0.4)\n",
    "ax.text(bin_location+5,n[n_max_location],r\"$\\Omega$ $_{phi}$ Peak=\"+str(round(bin_location[0],3)),c=\"red\")\n",
    "\n",
    "#fig0.savefig(plotpath+plotname,dpi=300)\n",
    "plt.close()"
   ]
  },
  {
   "cell_type": "markdown",
   "metadata": {},
   "source": [
    "# Making the cut"
   ]
  },
  {
   "cell_type": "code",
   "execution_count": null,
   "metadata": {},
   "outputs": [],
   "source": [
    "discindx=(mass<1e-7*2.324876e9)\n",
    "idd_snapshots=idd[discindx]\n",
    "x_select=x[discindx]\n",
    "y_select=y[discindx]\n",
    "z_select=z[discindx]\n",
    "\n",
    "vx_select=vx[discindx]\n",
    "vy_select=vy[discindx]\n",
    "vz_select=vz[discindx]\n",
    "\n",
    "\n",
    "vr_select=vr[discindx]\n",
    "vphi_select=vphi[discindx]\n",
    "vzz_select=vzz[discindx]\n",
    "\n",
    "\n",
    "r_select=r[discindx]\n",
    "phi_select=phi_degrees[discindx]"
   ]
  },
  {
   "cell_type": "code",
   "execution_count": null,
   "metadata": {},
   "outputs": [],
   "source": [
    "print(\"These are the ids obtained from the frequency data\",len(idd_from_freqs))\n",
    "print(\"These are the ids obtained from the snapshot  data\",len(idd_snapshots))"
   ]
  },
  {
   "cell_type": "markdown",
   "metadata": {},
   "source": [
    "# Loading all saved barangles"
   ]
  },
  {
   "cell_type": "code",
   "execution_count": null,
   "metadata": {},
   "outputs": [],
   "source": [
    "angle_datapath=\"/mnt/home/bbhattarai/resonance_sweeping//New_Sims_Analysis/\"\n",
    "datafilename=\"0_to_1048_B3-N_fft_barangles_combined_degrees.ang\"\n",
    "ang_stored = open(angle_datapath+datafilename,'rb')\n",
    "all_bangles=pickle.load(ang_stored)\n",
    "print(len(all_bangles))"
   ]
  },
  {
   "cell_type": "markdown",
   "metadata": {},
   "source": [
    "# Checking resonance Conditions"
   ]
  },
  {
   "cell_type": "code",
   "execution_count": null,
   "metadata": {},
   "outputs": [],
   "source": [
    "#datafilename=\"saved_bar_pattern_speed_km_per_s_kpc.ang\"\n",
    "datafilename=\"B3-N_saved_bar_pattern_speed_km_per_s_kpc.ang\"\n",
    "save_datapath=\"/mnt/home/bbhattarai/resonance_sweeping//New_Sims_Analysis/\"\n",
    "ps_stored = open(save_datapath+datafilename,'rb')\n",
    "ps=pickle.load(ps_stored)\n",
    "#print(ps)\n",
    "ps_700=ps[700]\n",
    "print(ps_700)"
   ]
  },
  {
   "cell_type": "markdown",
   "metadata": {},
   "source": [
    "# Adjusting pattern_speed_value"
   ]
  },
  {
   "cell_type": "code",
   "execution_count": null,
   "metadata": {},
   "outputs": [],
   "source": [
    "start=700-3\n",
    "end=700+3\n",
    "s=0\n",
    "c=0\n",
    "for i in range(start,end):\n",
    "    c+=1\n",
    "    s=s+ps[i]\n",
    "print(c)\n",
    "ps_adjusted=s/c\n",
    "\n",
    "print(ps_adjusted)\n",
    "\n",
    "#factor=3.08567758/3.15576\n",
    "#ps_adjusted=ps_adjusted/factor\n",
    "print(ps_adjusted)"
   ]
  },
  {
   "cell_type": "markdown",
   "metadata": {},
   "source": [
    "# Calculating the Resonance Conditions"
   ]
  },
  {
   "cell_type": "code",
   "execution_count": null,
   "metadata": {},
   "outputs": [],
   "source": [
    "#OLR resonance\n",
    "#olr_resonance=Ophidisk-Ordisk/2 # inner Linbald resonance\n",
    "\n",
    "olr_resonance=Ophidisk+Ordisk/2 # outer Linbald resonance\n",
    "omega_diff_olr=olr_resonance-ps_adjusted\n",
    "keep_olr=(omega_diff_olr<0.1)*(omega_diff_olr>-0.1)\n",
    "\n",
    "\n",
    "#CR resonance\n",
    "omega_diff=Ophidisk-ps_adjusted\n",
    "keep_cr=(omega_diff<0.1)*(omega_diff>-0.1)"
   ]
  },
  {
   "cell_type": "markdown",
   "metadata": {},
   "source": [
    "# Entire Galactic Regions with Co-Rotating (CR) Resonance"
   ]
  },
  {
   "cell_type": "markdown",
   "metadata": {},
   "source": []
  },
  {
   "cell_type": "code",
   "execution_count": null,
   "metadata": {},
   "outputs": [],
   "source": [
    "x_resonance_cr=(x_select[keep_cr])\n",
    "y_resonance_cr=(y_select[keep_cr])\n",
    "z_resonance_cr=(z_select[keep_cr])\n",
    "vr_resonance_cr=(vr_select[keep_cr])\n",
    "vphi_resonance_cr=(vphi_select[keep_cr])\n",
    "vzz_resonance_cr=(vzz_select[keep_cr])\n",
    "\n",
    "print(len(x_resonance_cr))\n",
    "\n",
    "r_resonance_cr=r_select[keep_cr]\n",
    "phi_resonance_cr=phi_select[keep_cr]\n",
    "\n",
    "idd_resonance_cr=idd_snapshots[keep_cr]\n",
    "\n",
    "datafilename=str(snapshot)+\"idd_resonance_cr.pkl\"\n",
    "with open(save_datapath+datafilename, 'wb') as output:\n",
    "        pickle.dump(idd_resonance_cr, output)"
   ]
  },
  {
   "cell_type": "markdown",
   "metadata": {},
   "source": [
    "# Calculating the percentage of stars that are in resonance with the bar:"
   ]
  },
  {
   "cell_type": "code",
   "execution_count": null,
   "metadata": {},
   "outputs": [],
   "source": [
    "n_star=len(x_select)\n",
    "n_star_cr=len(x_resonance_cr)\n",
    "\n",
    "print(n_star)\n",
    "print(n_star_cr)\n",
    "percentage_cr=(n_star_cr/n_star)*100\n",
    "print(\"The percentage of stars that are in Corotation Resonance is\",percentage_cr)"
   ]
  },
  {
   "cell_type": "markdown",
   "metadata": {},
   "source": [
    "# Entire Galactic Regions with OLR (Outer Linbald Resonance) Resonance"
   ]
  },
  {
   "cell_type": "markdown",
   "metadata": {},
   "source": []
  },
  {
   "cell_type": "code",
   "execution_count": null,
   "metadata": {},
   "outputs": [],
   "source": [
    "x_resonance_olr=(x_select[keep_olr])\n",
    "y_resonance_olr=(y_select[keep_olr])\n",
    "z_resonance_olr=(z_select[keep_olr])\n",
    "vr_resonance_olr=(vr_select[keep_olr])\n",
    "vphi_resonance_olr=(vphi_select[keep_olr])\n",
    "vzz_resonance_olr=(vzz_select[keep_olr])\n",
    "\n",
    "r_resonance_olr=r_select[keep_olr]\n",
    "phi_resonance_olr=phi_select[keep_olr]\n",
    "\n",
    "n_star_olr=len(x_resonance_olr)\n",
    "print(n_star_olr)\n",
    "percentage_olr=(n_star_olr/n_star)*100\n",
    "print(\"The percentage of stars that are in OLR are: \",percentage_olr)\n",
    "\n",
    "\n",
    "idd_resonance_olr=idd_snapshots[keep_olr]\n",
    "\n",
    "datafilename=str(snapshot)+\"idd_resonance_olr.pkl\"\n",
    "with open(save_datapath+datafilename, 'wb') as output:\n",
    "        pickle.dump(idd_resonance_olr, output)\n"
   ]
  },
  {
   "cell_type": "markdown",
   "metadata": {},
   "source": [
    "# Selecting the slice -5<phi<5"
   ]
  },
  {
   "cell_type": "code",
   "execution_count": null,
   "metadata": {},
   "outputs": [],
   "source": [
    "keep_phi_slice_cr=(phi_resonance_cr<5)*(phi_resonance_cr>-5)\n",
    "keep_phi_slice_olr=(phi_resonance_olr<5)*(phi_resonance_olr>-5)\n",
    "\n",
    "phi_slice_cr=phi_resonance_cr[keep_phi_slice_cr]\n",
    "print(len(phi_slice_cr))\n",
    "\n",
    "phi_slice_olr=phi_resonance_olr[keep_phi_slice_olr]\n",
    "print(len(phi_slice_olr))"
   ]
  },
  {
   "cell_type": "markdown",
   "metadata": {},
   "source": [
    "# Keeping record of values for the slice -5<phi<5"
   ]
  },
  {
   "cell_type": "code",
   "execution_count": null,
   "metadata": {},
   "outputs": [],
   "source": [
    "keep_phi_slice=(phi_select<5)*(phi_select>-5)\n",
    "x_select_phi_slice=x_select[keep_phi_slice]\n",
    "y_select_phi_slice=y_select[keep_phi_slice]\n",
    "z_select_phi_slice=z_select[keep_phi_slice]\n",
    "\n",
    "vr_phi_slice=vr_select[keep_phi_slice]\n",
    "vphi_phi_slice=vphi_select[keep_phi_slice]\n",
    "vzz_phi_slice=vzz_select[keep_phi_slice]\n",
    "r_phi_slice=r_select[keep_phi_slice]"
   ]
  },
  {
   "cell_type": "markdown",
   "metadata": {},
   "source": [
    "# Keeping record of values in the Solar Neighborhood"
   ]
  },
  {
   "cell_type": "code",
   "execution_count": null,
   "metadata": {},
   "outputs": [],
   "source": [
    "keep_sn=(x_select<8.5)*(x_select>7.5)*(y_select<0.5)*(y_select>-0.5)*(z_select<0.5)*(z_select>-0.5)\n",
    "x_select_sn=x_select[keep_sn]\n",
    "y_select_sn=y_select[keep_sn]\n",
    "z_select_sn=z_select[keep_sn]\n",
    "\n",
    "vr_sn=vr_select[keep_sn]\n",
    "vphi_sn=vphi_select[keep_sn]\n",
    "vzz_sn=vzz_select[keep_sn]\n",
    "r_sn=r_select[keep_sn]"
   ]
  },
  {
   "cell_type": "markdown",
   "metadata": {},
   "source": [
    "# Corotating Resonance (CR) in the slice"
   ]
  },
  {
   "cell_type": "code",
   "execution_count": null,
   "metadata": {},
   "outputs": [],
   "source": [
    "x_resonance_cr_phi_slice=x_resonance_cr[keep_phi_slice_cr]\n",
    "y_resonance_cr_phi_slice=(y_resonance_cr[keep_phi_slice_cr])\n",
    "z_resonance_cr_phi_slice=(z_resonance_cr[keep_phi_slice_cr])\n",
    "vr_resonance_cr_phi_slice=(vr_resonance_cr[keep_phi_slice_cr])\n",
    "vphi_resonance_cr_phi_slice=(vphi_resonance_cr[keep_phi_slice_cr])\n",
    "vzz_resonance_cr_phi_slice=(vzz_resonance_cr[keep_phi_slice_cr])\n",
    "\n",
    "r_resonance_cr_phi_slice=r_resonance_cr[keep_phi_slice_cr]\n",
    "\n",
    "phi_resonance_cr_phi_slice=phi_resonance_cr[keep_phi_slice_cr]\n",
    "\n",
    "\n",
    "idd_resonance_cr_phi_slice=idd_resonance_cr[keep_phi_slice_cr]\n",
    "\n",
    "datafilename=str(snapshot)+\"idd_resonance_cr_phi_slice.pkl\"\n",
    "with open(save_datapath+datafilename, 'wb') as output:\n",
    "        pickle.dump(idd_resonance_cr_phi_slice, output)\n",
    "\n",
    "\n",
    "print(x_resonance_cr_phi_slice)"
   ]
  },
  {
   "cell_type": "markdown",
   "metadata": {},
   "source": [
    "# OLR in the slice"
   ]
  },
  {
   "cell_type": "code",
   "execution_count": null,
   "metadata": {},
   "outputs": [],
   "source": [
    "x_resonance_olr_phi_slice=x_resonance_olr[keep_phi_slice_olr]\n",
    "y_resonance_olr_phi_slice=(y_resonance_olr[keep_phi_slice_olr])\n",
    "z_resonance_olr_phi_slice=(z_resonance_olr[keep_phi_slice_olr])\n",
    "vr_resonance_olr_phi_slice=(vr_resonance_olr[keep_phi_slice_olr])\n",
    "vphi_resonance_olr_phi_slice=(vphi_resonance_olr[keep_phi_slice_olr])\n",
    "vzz_resonance_olr_phi_slice=(vzz_resonance_olr[keep_phi_slice_olr])\n",
    "\n",
    "r_resonance_olr_phi_slice=r_resonance_olr[keep_phi_slice_olr]\n",
    "\n",
    "phi_resonance_olr_phi_slice=phi_resonance_olr[keep_phi_slice_olr]\n",
    "\n",
    "idd_resonance_olr_phi_slice=idd_resonance_olr[keep_phi_slice_olr]\n",
    "\n",
    "datafilename=str(snapshot)+\"idd_resonance_olr_phi_slice.pkl\"\n",
    "with open(save_datapath+datafilename, 'wb') as output:\n",
    "        pickle.dump(idd_resonance_olr_phi_slice, output)\n",
    "\n",
    "print(x_resonance_olr_phi_slice)"
   ]
  },
  {
   "cell_type": "markdown",
   "metadata": {},
   "source": [
    "# Selecting the solar neighboorhood"
   ]
  },
  {
   "cell_type": "code",
   "execution_count": null,
   "metadata": {},
   "outputs": [],
   "source": [
    "keep_cr_sn=(x_resonance_cr<8.5)*(x_resonance_cr>7.5)*(y_resonance_cr<0.5)*(y_resonance_cr>-0.5)*(z_resonance_cr<0.5)*(z_resonance_cr>-0.5)\n",
    "keep_olr_sn=(x_resonance_olr<8.5)*(x_resonance_olr>7.5)*(y_resonance_olr<0.5)*(y_resonance_olr>-0.5)*(z_resonance_olr<0.5)*(z_resonance_olr>-0.5)\n",
    "\n",
    "#keep_cr_sn=(x_resonance_cr<8.5)*(x_resonance_cr>7.5)\n",
    "#keep_olr_sn=(x_resonance_olr<8.5)*(x_resonance_olr>7.5)"
   ]
  },
  {
   "cell_type": "markdown",
   "metadata": {},
   "source": [
    "# CR in the Solar Neighborhood"
   ]
  },
  {
   "cell_type": "code",
   "execution_count": null,
   "metadata": {},
   "outputs": [],
   "source": [
    "x_resonance_cr_sr=x_resonance_cr[keep_cr_sn]\n",
    "y_resonance_cr_sr=(y_resonance_cr[keep_cr_sn])\n",
    "z_resonance_cr_sr=(z_resonance_cr[keep_cr_sn])\n",
    "vr_resonance_cr_sr=(vr_resonance_cr[keep_cr_sn])\n",
    "vphi_resonance_cr_sr=(vphi_resonance_cr[keep_cr_sn])\n",
    "vzz_resonance_cr_sr=(vzz_resonance_cr[keep_cr_sn])\n",
    "\n",
    "r_resonance_cr_sr=r_resonance_cr[keep_cr_sn]\n",
    "\n",
    "phi_resonance_cr_sr=phi_resonance_cr[keep_cr_sn]\n",
    "\n",
    "idd_resonance_cr_sr=idd_resonance_cr[keep_cr_sn]\n",
    "\n",
    "datafilename=str(snapshot)+\"idd_resonance_cr_sr.pkl\"\n",
    "with open(save_datapath+datafilename, 'wb') as output:\n",
    "        pickle.dump(idd_resonance_cr_sr, output)\n",
    "\n"
   ]
  },
  {
   "cell_type": "markdown",
   "metadata": {},
   "source": [
    "# OLR in the Solar Neighborhood"
   ]
  },
  {
   "cell_type": "code",
   "execution_count": null,
   "metadata": {},
   "outputs": [],
   "source": [
    "x_resonance_olr_sr=(x_resonance_olr[keep_olr_sn])\n",
    "y_resonance_olr_sr=(y_resonance_olr[keep_olr_sn])\n",
    "z_resonance_olr_sr=(z_resonance_olr[keep_olr_sn])\n",
    "vr_resonance_olr_sr=(vr_resonance_olr[keep_olr_sn])\n",
    "vphi_resonance_olr_sr=(vphi_resonance_olr[keep_olr_sn])\n",
    "vzz_resonance_olr_sr=(vzz_resonance_olr[keep_olr_sn])\n",
    "\n",
    "r_resonance_olr_sr=r_resonance_olr[keep_olr_sn]\n",
    "phi_resonance_olr_sr=phi_resonance_olr[keep_olr_sn]\n",
    "\n",
    "\n",
    "idd_resonance_olr_sr=idd_resonance_olr[keep_olr_sn]\n",
    "\n",
    "datafilename=str(snapshot)+\"idd_resonance_olr_sr.pkl\"\n",
    "with open(save_datapath+datafilename, 'wb') as output:\n",
    "        pickle.dump(idd_resonance_olr_sr, output)"
   ]
  },
  {
   "cell_type": "markdown",
   "metadata": {},
   "source": [
    "# Printing resonance data"
   ]
  },
  {
   "cell_type": "code",
   "execution_count": null,
   "metadata": {},
   "outputs": [],
   "source": [
    "print(\"Ones with OLR resonance in the solar neighborhood: \",y_resonance_olr_sr)\n",
    "print(\"Ones with CR resonance in the solar neighborhood: \",y_resonance_cr_sr)"
   ]
  },
  {
   "cell_type": "markdown",
   "metadata": {},
   "source": [
    "# Plotting x and y of resonance regions in the entire galaxy"
   ]
  },
  {
   "cell_type": "code",
   "execution_count": null,
   "metadata": {},
   "outputs": [],
   "source": [
    "fig3=plt.figure()\n",
    "ax=fig3.add_subplot(111)\n",
    "#ax.text(8,300,r\"Snapshot %s, Slice: -5<$\\phi$<5\"%(str(snapshot)))\n",
    "#cb1=ax.hexbin(x_select,y_select,extent=((-35,35,-35,35)),gridsize=500,mincnt=1,C=Ordisk,vmin=1,vmax=40)\n",
    "cb1=ax.hexbin(x_select,y_select,extent=((-35,35,-35,35)),gridsize=500,mincnt=1,bins='log')\n",
    "ax.scatter(x_resonance_cr,y_resonance_cr,c=\"black\",marker=\".\",s=0.01,label=\"CR\")\n",
    "#ax.scatter(x_resonance_olr,y_resonance_olr,c=\"red\",marker=\".\",s=0.01,label=\"OLR\")\n",
    "#ax.scatter(x_resonance_cr_sr,y_resonance_cr_sr,c=\"yellow\",marker=\".\",s=0.1,label=\"CR-SN\")\n",
    "#ax.scatter(x_resonance_olr_sr,y_resonance_olr_sr,c=\"orange\",marker=\".\",s=0.1,label=\"OLR-SN\")\n",
    "ax.set_xlabel(\"x\")\n",
    "ax.set_ylabel(\"y\")\n",
    "ax.legend(bbox_to_anchor=(1.13,0.93), loc='center left',markerscale=20)\n",
    "ax.text(13,30,r\"Snapshot 700 (B3-N)\")\n",
    "#ax.set_xlim(7.5,8.5)\n",
    "#ax.set_ylim(-0.5,0.5)\n",
    "cbar_ax = fig3.add_axes([0.91, 0.12, 0.03, 0.76]) # position of the colorbar (left, bottom, width, height)\n",
    "fig3.colorbar(cb1, cax=cbar_ax)\n",
    "cbar_ax.set_ylabel(r'n$_{star}$')\n",
    "cbar_ax.yaxis.label.set_size(10)\n",
    "plotname=str(snapshot)+\"B3-N_y_vs_x_with_CR_resonance_regions_only.jpg\"\n",
    "#ax.set_aspect('equal')\n",
    "fig3.savefig(plotpath+plotname,bbox_inches=\"tight\",dpi=250)\n",
    "print(\"Plot generated and saved to file: \",plotname)\n",
    "plt.close()"
   ]
  },
  {
   "cell_type": "code",
   "execution_count": null,
   "metadata": {},
   "outputs": [],
   "source": [
    "fig3_1=plt.figure()\n",
    "ax=fig3_1.add_subplot(111)\n",
    "#ax.text(8,300,r\"Snapshot %s, Slice: -5<$\\phi$<5\"%(str(snapshot)))\n",
    "#cb1=ax.hexbin(x_select,y_select,extent=((-35,35,-35,35)),gridsize=500,mincnt=1,C=Ordisk,vmin=1,vmax=40)\n",
    "cb1=ax.hexbin(x_select,y_select,extent=((-35,35,-35,35)),gridsize=500,mincnt=1,bins='log')\n",
    "ax.scatter(x_resonance_cr,y_resonance_cr,c=\"black\",marker=\".\",s=0.01,label=\"CR\")\n",
    "ax.scatter(x_resonance_olr,y_resonance_olr,c=\"red\",marker=\".\",s=0.01,label=\"OLR\")\n",
    "#ax.scatter(x_resonance_cr_sr,y_resonance_cr_sr,c=\"yellow\",marker=\".\",s=0.1,label=\"CR-SN\")\n",
    "#ax.scatter(x_resonance_olr_sr,y_resonance_olr_sr,c=\"orange\",marker=\".\",s=0.1,label=\"OLR-SN\")\n",
    "ax.set_xlabel(\"x\")\n",
    "ax.set_ylabel(\"y\")\n",
    "ax.legend(bbox_to_anchor=(1.13,0.93), loc='center left',markerscale=20)\n",
    "ax.text(13,30,r\"Snapshot 700 (B3-N)\")\n",
    "#ax.set_xlim(7.5,8.5)\n",
    "#ax.set_ylim(-0.5,0.5)\n",
    "cbar_ax = fig3_1.add_axes([0.91, 0.12, 0.03, 0.76]) # position of the colorbar (left, bottom, width, height)\n",
    "fig3_1.colorbar(cb1, cax=cbar_ax)\n",
    "cbar_ax.set_ylabel(r'n$_{star}$')\n",
    "cbar_ax.yaxis.label.set_size(10)\n",
    "plotname=str(snapshot)+\"B3-N_y_vs_x_with_OLR_over_CR_resonance_regions_only.jpg\"\n",
    "#ax.set_aspect('equal')\n",
    "fig3_1.savefig(plotpath+plotname,bbox_inches=\"tight\",dpi=250)\n",
    "print(\"Plot generated and saved to file: \",plotname)\n",
    "plt.close()"
   ]
  },
  {
   "cell_type": "code",
   "execution_count": null,
   "metadata": {},
   "outputs": [],
   "source": [
    "fig3_2=plt.figure()\n",
    "ax=fig3_2.add_subplot(111)\n",
    "#ax.text(8,300,r\"Snapshot %s, Slice: -5<$\\phi$<5\"%(str(snapshot)))\n",
    "#cb1=ax.hexbin(x_select,y_select,extent=((-35,35,-35,35)),gridsize=500,mincnt=1,C=Ordisk,vmin=1,vmax=40)\n",
    "cb1=ax.hexbin(x_select,y_select,extent=((-35,35,-35,35)),gridsize=500,mincnt=1,bins='log')\n",
    "ax.scatter(x_resonance_cr,y_resonance_cr,c=\"black\",marker=\".\",s=0.01,label=\"CR\")\n",
    "ax.scatter(x_resonance_olr,y_resonance_olr,c=\"red\",marker=\".\",s=0.01,label=\"OLR\")\n",
    "ax.scatter(x_resonance_cr_sr,y_resonance_cr_sr,c=\"yellow\",marker=\".\",s=0.1,label=\"CR-SN\")\n",
    "#ax.scatter(x_resonance_olr_sr,y_resonance_olr_sr,c=\"orange\",marker=\".\",s=0.1,label=\"OLR-SN\")\n",
    "ax.set_xlabel(\"x\")\n",
    "ax.set_ylabel(\"y\")\n",
    "ax.legend(bbox_to_anchor=(1.13,0.93), loc='center left',markerscale=15)\n",
    "ax.text(13,30,r\"Snapshot 700 (B3-N)\")\n",
    "#ax.set_xlim(7.5,8.5)\n",
    "#ax.set_ylim(-0.5,0.5)\n",
    "cbar_ax = fig3_2.add_axes([0.91, 0.12, 0.03, 0.76]) # position of the colorbar (left, bottom, width, height)\n",
    "fig3_2.colorbar(cb1, cax=cbar_ax)\n",
    "cbar_ax.set_ylabel(r'n$_{star}$')\n",
    "cbar_ax.yaxis.label.set_size(10)\n",
    "plotname=str(snapshot)+\"B3-N_y_vs_x_with_CR_SN_over_others_resonance_regions_only.jpg\"\n",
    "#ax.set_aspect('equal')\n",
    "fig3_2.savefig(plotpath+plotname,bbox_inches=\"tight\",dpi=250)\n",
    "print(\"Plot generated and saved to file: \",plotname)\n",
    "plt.close()"
   ]
  },
  {
   "cell_type": "code",
   "execution_count": null,
   "metadata": {},
   "outputs": [],
   "source": [
    "fig3_3=plt.figure()\n",
    "ax=fig3_3.add_subplot(111)\n",
    "#ax.text(8,300,r\"Snapshot %s, Slice: -5<$\\phi$<5\"%(str(snapshot)))\n",
    "#cb1=ax.hexbin(x_select,y_select,extent=((-35,35,-35,35)),gridsize=500,mincnt=1,C=Ordisk,vmin=1,vmax=40)\n",
    "cb1=ax.hexbin(x_select,y_select,extent=((-35,35,-35,35)),gridsize=500,mincnt=1,bins='log')\n",
    "ax.scatter(x_resonance_cr,y_resonance_cr,c=\"black\",marker=\".\",s=0.01,label=\"CR\")\n",
    "ax.scatter(x_resonance_olr,y_resonance_olr,c=\"red\",marker=\".\",s=0.01,label=\"OLR\")\n",
    "ax.scatter(x_resonance_cr_sr,y_resonance_cr_sr,c=\"yellow\",marker=\".\",s=0.1,label=\"CR-SN\")\n",
    "ax.scatter(x_resonance_olr_sr,y_resonance_olr_sr,c=\"orange\",marker=\".\",s=0.1,label=\"OLR-SN\")\n",
    "ax.set_xlabel(\"x\")\n",
    "ax.set_ylabel(\"y\")\n",
    "ax.legend(bbox_to_anchor=(1.13,0.93), loc='center left',markerscale=15)\n",
    "ax.text(13,30,r\"Snapshot 700 (B3-N)\")\n",
    "#ax.set_xlim(7.5,8.5)\n",
    "#ax.set_ylim(-0.5,0.5)\n",
    "cbar_ax = fig3_3.add_axes([0.91, 0.12, 0.03, 0.76]) # position of the colorbar (left, bottom, width, height)\n",
    "fig3_3.colorbar(cb1, cax=cbar_ax)\n",
    "cbar_ax.set_ylabel(r'n$_{star}$')\n",
    "cbar_ax.yaxis.label.set_size(10)\n",
    "plotname=str(snapshot)+\"B3-N_y_vs_x_with_all_resonance_regions.jpg\"\n",
    "#ax.set_aspect('equal')\n",
    "fig3_3.savefig(plotpath+plotname,bbox_inches=\"tight\",dpi=250)\n",
    "print(\"Plot generated and saved to file: \",plotname)\n",
    "plt.close()"
   ]
  },
  {
   "cell_type": "code",
   "execution_count": null,
   "metadata": {},
   "outputs": [],
   "source": [
    "fig4=plt.figure()\n",
    "ax=fig4.add_subplot(111)\n",
    "#ax.text(8,300,r\"Snapshot %s, Slice: -5<$\\phi$<5\"%(str(snapshot)))\n",
    "#cb1=ax.hexbin(x_select,y_select,extent=((-35,35,-35,35)),gridsize=500,mincnt=1,C=Ordisk,vmin=1,vmax=40)\n",
    "cb1=ax.hexbin(x_select,y_select,extent=((-35,35,-35,35)),gridsize=500,mincnt=1,bins='log')\n",
    "ax.scatter(x_resonance_cr,y_resonance_cr,c=\"black\",marker=\".\",s=0.01,label=\"CR\")\n",
    "ax.scatter(x_resonance_olr,y_resonance_olr,c=\"red\",marker=\".\",s=0.01,label=\"OLR\")\n",
    "ax.scatter(x_resonance_cr_sr,y_resonance_cr_sr,c=\"yellow\",marker=\".\",s=0.1,label=\"CR-SN\")\n",
    "ax.scatter(x_resonance_olr_sr,y_resonance_olr_sr,c=\"orange\",marker=\".\",s=0.1,label=\"OLR-SN\")\n",
    "ax.set_xlabel(\"x\")\n",
    "ax.set_ylabel(\"y\")\n",
    "ax.legend(bbox_to_anchor=(1.13,0.93), loc='center left',markerscale=9)\n",
    "ax.text(13,30,r\"Snapshot 700 (B3-N)\")\n",
    "#ax.set_xlim(7.5,8.5)\n",
    "#ax.set_ylim(-0.5,0.5)\n",
    "cbar_ax = fig4.add_axes([0.91, 0.12, 0.03, 0.76]) # position of the colorbar (left, bottom, width, height)\n",
    "fig4.colorbar(cb1, cax=cbar_ax)\n",
    "cbar_ax.set_ylabel(r'n$_{star}$')\n",
    "cbar_ax.yaxis.label.set_size(10)\n",
    "plotname=str(snapshot)+\"B3-N_y_vs_x_with_resonance_regions_whole_galaxy.jpg\"\n",
    "fig4.savefig(plotpath+plotname,bbox_inches=\"tight\",dpi=250)\n",
    "print(\"Plot generated and saved to file: \",plotname)\n",
    "plt.close()"
   ]
  },
  {
   "cell_type": "code",
   "execution_count": null,
   "metadata": {},
   "outputs": [],
   "source": [
    "print(len(x_resonance_olr))\n",
    "print(len(x_resonance_cr))\n",
    "print(len(x_resonance_cr_sr))\n",
    "print(len(x_resonance_olr_sr))"
   ]
  },
  {
   "cell_type": "code",
   "execution_count": null,
   "metadata": {},
   "outputs": [],
   "source": [
    "print(np.max(vr_select))\n",
    "plt.close()"
   ]
  },
  {
   "cell_type": "code",
   "execution_count": null,
   "metadata": {},
   "outputs": [],
   "source": [
    "fig5=plt.figure()\n",
    "ax=fig5.add_subplot(111)\n",
    "#ax.text(8,300,r\"Snapshot %s, Slice: -5<$\\phi$<5\"%(str(snapshot)))\n",
    "#cb1=ax.hexbin(x_select,y_select,extent=((-35,35,-35,35)),gridsize=500,mincnt=1,C=Ordisk,vmin=1,vmax=40)\n",
    "cb1=ax.hexbin(vr,vphi,extent=((-600,600,-600,600)),gridsize=500,mincnt=1,bins='log')\n",
    "ax.set_xlabel(\"vR\")\n",
    "ax.set_ylabel(r\"v$\\phi$\")\n",
    "ax.scatter(vr_resonance_cr,vphi_resonance_cr,c=\"black\",marker=\".\",s=0.01,label=\"CR\")\n",
    "ax.scatter(vr_resonance_olr,vphi_resonance_olr,c=\"red\",marker=\".\",s=0.01,label=\"OLR\")\n",
    "ax.scatter(vr_resonance_cr_sr,vphi_resonance_cr_sr,c=\"yellow\",marker=\".\",s=0.1,label=\"CR-SN\")\n",
    "ax.scatter(vr_resonance_olr_sr,vphi_resonance_olr_sr,c=\"orange\",marker=\".\",s=0.1,label=\"OLR-SN\")\n",
    "ax.legend(bbox_to_anchor=(1.13,0.93), loc='center left',markerscale=9)\n",
    "ax.text(248,550,r\"Snapshot 700 (B3-N)\")\n",
    "\n",
    "cbar_ax = fig5.add_axes([0.91, 0.12, 0.03, 0.76]) # position of the colorbar (left, bottom, width, height)\n",
    "fig5.colorbar(cb1, cax=cbar_ax)\n",
    "cbar_ax.set_ylabel(r'n$_{star}$')\n",
    "cbar_ax.yaxis.label.set_size(10)\n",
    "plotname=str(snapshot)+\"B3-N_v_phi_vs_vr_with_resonance_regions.jpg\"\n",
    "fig5.savefig(plotpath+plotname,bbox_inches=\"tight\",dpi=200)\n",
    "print(\"Plot generated and saved to file: \",plotname)\n",
    "plt.close()"
   ]
  },
  {
   "cell_type": "code",
   "execution_count": null,
   "metadata": {},
   "outputs": [],
   "source": []
  },
  {
   "cell_type": "code",
   "execution_count": null,
   "metadata": {},
   "outputs": [],
   "source": [
    "fig5_1=plt.figure()\n",
    "ax=fig5_1.add_subplot(111)\n",
    "#ax.text(8,300,r\"Snapshot %s, Slice: -5<$\\phi$<5\"%(str(snapshot)))\n",
    "#cb1=ax.hexbin(x_select,y_select,extent=((-35,35,-35,35)),gridsize=500,mincnt=1,C=Ordisk,vmin=1,vmax=40)\n",
    "cb1=ax.hexbin(vr_sn,vphi_sn,extent=((-200,200,50,300)),gridsize=500,mincnt=1,vmin=1,vmax=30)\n",
    "ax.set_xlabel(\"vR\")\n",
    "ax.set_ylabel(r\"v$\\phi$\")\n",
    "#ax.scatter(vr_resonance_cr,vphi_resonance_cr,c=\"black\",marker=\".\",s=0.01,label=\"CR\")\n",
    "#ax.scatter(vr_resonance_olr,vphi_resonance_olr,c=\"red\",marker=\".\",s=0.01,label=\"OLR\")\n",
    "ax.scatter(vr_resonance_cr_sr,vphi_resonance_cr_sr,c=\"yellow\",marker=\"*\",s=0.3,label=\"CR-SN\")\n",
    "ax.scatter(vr_resonance_olr_sr,vphi_resonance_olr_sr,c=\"orange\",marker=\"*\",s=0.3,label=\"OLR-SN\")\n",
    "ax.legend(bbox_to_anchor=(1.13,0.93), loc='center left',markerscale=9)\n",
    "ax.text(80,285,r\"Snapshot 700 (B3-N)\")\n",
    "ax.text(-180,285,r\"7.5<x<8.5, -0.5<y<0.5, -0.5<z<0.5\")\n",
    "\n",
    "cbar_ax = fig5_1.add_axes([0.91, 0.12, 0.03, 0.76]) # position of the colorbar (left, bottom, width, height)\n",
    "fig5_1.colorbar(cb1, cax=cbar_ax)\n",
    "cbar_ax.set_ylabel(r'n$_{star}$')\n",
    "cbar_ax.yaxis.label.set_size(10)\n",
    "plotname=str(snapshot)+\"B3-N_v_phi_vs_vr_with_resonance_region_in_sn_slice.jpg\"\n",
    "fig5_1.savefig(plotpath+plotname,bbox_inches=\"tight\",dpi=300)\n",
    "print(\"Plot generated and saved to file: \",plotname)\n",
    "plt.close()"
   ]
  },
  {
   "cell_type": "markdown",
   "metadata": {},
   "source": [
    "# Selecting a small angular region for analysis"
   ]
  },
  {
   "cell_type": "code",
   "execution_count": null,
   "metadata": {},
   "outputs": [],
   "source": [
    "keep_phi=(phi_select<5)*(phi_select>-5)\n",
    "vphi_slice=vphi_select[keep_phi]\n",
    "\n",
    "r_slice=r_select[keep_phi]\n",
    "\n",
    "fig6=plt.figure()\n",
    "ax=fig6.add_subplot(212)\n",
    "ax1=fig6.add_subplot(211)\n",
    "#ax.text(8,300,r\"Snapshot %s, Slice: -5<$\\phi$<5\"%(str(snapshot)))\n",
    "#cb1=ax.hexbin(x_select,y_select,extent=((-35,35,-35,35)),gridsize=500,mincnt=1,C=Ordisk,vmin=1,vmax=40)\n",
    "cb1=ax.hexbin(r_slice,vphi_slice,extent=((5,15,50,300)),gridsize=500,mincnt=1,vmin=1,vmax=80)\n",
    "ax.set_xlabel(\"R\")\n",
    "ax.set_ylabel(r\"v$\\phi$\")\n",
    "ax_cr=ax.scatter(r_resonance_cr_phi_slice,vphi_resonance_cr_phi_slice,c=\"black\",marker=\".\",s=0.1,label=\"CR\")\n",
    "print(len(r_resonance_cr))\n",
    "ax_olr=ax.scatter(r_resonance_olr_phi_slice,vphi_resonance_olr_phi_slice,c=\"red\",marker=\".\",s=0.1,label=\"OLR\")\n",
    "ax.scatter(r_resonance_cr_sr,vphi_resonance_cr_sr,c=\"yellow\",marker=\"*\",s=0.1,label=\"CR-SN\")\n",
    "ax.scatter(r_resonance_olr_sr,vphi_resonance_olr_sr,c=\"orange\",marker=\"*\",s=0.1,label=\"OLR-SN\")\n",
    "\n",
    "cbar_ax = fig6.add_axes([0.91, 0.12, 0.03, 0.76]) # position of the colorbar (left, bottom, width, height)\n",
    "fig6.colorbar(cb1, cax=cbar_ax)\n",
    "cbar_ax.set_ylabel(r'n$_{star}$')\n",
    "cbar_ax.yaxis.label.set_size(10)\n",
    "ax.set_xlim(5,15)\n",
    "ax.set_ylim(50,300)\n",
    "#ax.legend(bbox_to_anchor=(0.77,0.93), loc='center left',markerscale=9)\n",
    "ax.legend(bbox_to_anchor=(1.13,1.6), loc='center left',markerscale=9)\n",
    "\n",
    "ax1.hexbin(r_slice,vphi_slice,extent=((5,15,50,300)),gridsize=500,mincnt=1,vmin=1,vmax=80)\n",
    "ax1.set_xlim(5,15)\n",
    "ax1.set_ylim(50,300)\n",
    "ax1.text(12,270,r\"Slice -5<$\\phi$<5\")\n",
    "#ax.legend(markerscale=6)\n",
    "plotname=str(snapshot)+\"B3-N_v_phi_vs_r_with_resonance_regions.jpg\"\n",
    "fig6.savefig(plotpath+plotname,bbox_inches=\"tight\",dpi=300)\n",
    "print(\"Plot generated and saved to file: \",plotname)\n",
    "plt.close()"
   ]
  },
  {
   "cell_type": "code",
   "execution_count": null,
   "metadata": {},
   "outputs": [],
   "source": [
    "print(r_resonance_cr_sr)"
   ]
  },
  {
   "cell_type": "code",
   "execution_count": null,
   "metadata": {},
   "outputs": [],
   "source": []
  },
  {
   "cell_type": "markdown",
   "metadata": {},
   "source": [
    "# Loading new sims demo !!!!"
   ]
  },
  {
   "cell_type": "code",
   "execution_count": null,
   "metadata": {},
   "outputs": [],
   "source": [
    "from procedure import *"
   ]
  },
  {
   "cell_type": "code",
   "execution_count": null,
   "metadata": {},
   "outputs": [],
   "source": [
    "path"
   ]
  },
  {
   "cell_type": "code",
   "execution_count": null,
   "metadata": {},
   "outputs": [],
   "source": [
    "snaparr = loadwholesnap(path,90)"
   ]
  },
  {
   "cell_type": "code",
   "execution_count": null,
   "metadata": {},
   "outputs": [],
   "source": [
    "print(snaparr[0].dtype)"
   ]
  },
  {
   "cell_type": "code",
   "execution_count": null,
   "metadata": {},
   "outputs": [],
   "source": [
    "snaparr[(snaparr['x']>3)&(snaparr['y']<2)]['z']"
   ]
  },
  {
   "cell_type": "code",
   "execution_count": null,
   "metadata": {},
   "outputs": [],
   "source": [
    "np.where(snaparr['idd']==241071075)[0]"
   ]
  },
  {
   "cell_type": "code",
   "execution_count": null,
   "metadata": {},
   "outputs": [],
   "source": []
  }
 ],
 "metadata": {
  "interpreter": {
   "hash": "6f49258605f7cf164064b7cdb9c998ca72afab938262f6585b3280eb87db805c"
  },
  "kernelspec": {
   "display_name": "Python 3",
   "language": "python",
   "name": "python3"
  },
  "language_info": {
   "codemirror_mode": {
    "name": "ipython",
    "version": 3
   },
   "file_extension": ".py",
   "mimetype": "text/x-python",
   "name": "python",
   "nbconvert_exporter": "python",
   "pygments_lexer": "ipython3",
   "version": "3.8.8"
  }
 },
 "nbformat": 4,
 "nbformat_minor": 4
}
